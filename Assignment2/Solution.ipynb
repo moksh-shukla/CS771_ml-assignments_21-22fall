{
  "nbformat": 4,
  "nbformat_minor": 0,
  "metadata": {
    "colab": {
      "name": "MokshShukla_180433_Assignment2.ipynb",
      "provenance": [],
      "collapsed_sections": []
    },
    "kernelspec": {
      "name": "python3",
      "display_name": "Python 3"
    },
    "language_info": {
      "name": "python"
    }
  },
  "cells": [
    {
      "cell_type": "markdown",
      "metadata": {
        "id": "HeJM29LgXA-o"
      },
      "source": [
        "# This is the Assignment 2 for the course **CS771** (2021-22 I)<br>\n",
        "### ***Name*** : Moksh Shukla\n",
        "### ***Roll No.*** : 180433"
      ]
    },
    {
      "cell_type": "code",
      "metadata": {
        "id": "_pPPVrvVwLoy"
      },
      "source": [
        "import numpy as np\n",
        "import pandas as pd\n",
        "import matplotlib.pyplot as plt\n",
        "import time #to calculate time in Q1(e)"
      ],
      "execution_count": 3,
      "outputs": []
    },
    {
      "cell_type": "markdown",
      "metadata": {
        "id": "nrtOeGSyxSl-"
      },
      "source": [
        "##Question 1"
      ]
    },
    {
      "cell_type": "markdown",
      "metadata": {
        "id": "t8NaGLFAcxeG"
      },
      "source": [
        "Here I have slightly modified the ```gradient_descent``` function: ```x = np.add(x,delta) ``` in place of ```x += delta``` and ```np.round(x,3)``` in place of ```round(x*1000)/1000``` to accomodate the function for ```np``` arrays which makes it usable for other parts as well."
      ]
    },
    {
      "cell_type": "code",
      "metadata": {
        "id": "ViFAYl-rwrB_"
      },
      "source": [
        "def gradient_descent (gradient, init_,learn_rate, n_iter=1000, tol=1e-06):\n",
        "  x = init_\n",
        "  for _ in range(n_iter):\n",
        "    delta = -learn_rate*gradient(x) \n",
        "    if np.all(np.abs(delta) <= tol):\n",
        "      break \n",
        "    x = np.add(x,delta) \n",
        "    # x+=delta\n",
        "  return np.round(x,3)\n",
        "  # return round(x*1000)/1000"
      ],
      "execution_count": 4,
      "outputs": []
    },
    {
      "cell_type": "markdown",
      "metadata": {
        "id": "sMAU-tP1xlaP"
      },
      "source": [
        "##Part(a)"
      ]
    },
    {
      "cell_type": "markdown",
      "metadata": {
        "id": "dg5HtQ42ddD0"
      },
      "source": [
        "i ) To find minima for $x^2 + 3x + 2$, I simply define a gradient function ```grad_f1``` which is passed to ```gradient_descent``` and it returns the value of $x$ at which minima occurs "
      ]
    },
    {
      "cell_type": "code",
      "metadata": {
        "id": "TjISU21-xOJi"
      },
      "source": [
        "# f1(x) = x^2 + 3x + 4\n",
        "def grad_f1(val):\n",
        "  x = val\n",
        "  f_prime = 2*x + 3\n",
        "\n",
        "  return f_prime"
      ],
      "execution_count": null,
      "outputs": []
    },
    {
      "cell_type": "code",
      "metadata": {
        "colab": {
          "base_uri": "https://localhost:8080/"
        },
        "id": "ln7yJd-V5jff",
        "outputId": "1b25a949-2c04-4601-94d2-0e10e1338b3e"
      },
      "source": [
        "f1_min = gradient_descent(grad_f1, 1, 0.1) #initial value = 1, learning  rate = 0.1\n",
        "print(\"Minima Occurs at:\" + str(f1_min)) #returns the value at which minima occurs for the function"
      ],
      "execution_count": null,
      "outputs": [
        {
          "output_type": "stream",
          "name": "stdout",
          "text": [
            "Minima Occurs at:-1.5\n"
          ]
        }
      ]
    },
    {
      "cell_type": "markdown",
      "metadata": {
        "id": "yJ_n5R5od9fI"
      },
      "source": [
        "ii ) To find minima for $x^4 - 3x^2 + 2x$, I simply define a gradient function ```grad_f2``` which is passed to ```gradient_descent``` and it returns the value of $x$ at which minima occurs. This function has multiple optima so a choice of good starting point determines whether we reach a local or global optima"
      ]
    },
    {
      "cell_type": "code",
      "metadata": {
        "id": "Nq0Lew4Y5-1s"
      },
      "source": [
        "# f2(x) = x^4 - 3x^2 + 2x\n",
        "\n",
        "def grad_f2(val):\n",
        "  x = val\n",
        "  f_prime = 4*x*x*x-6*x+2\n",
        "\n",
        "  return f_prime"
      ],
      "execution_count": null,
      "outputs": []
    },
    {
      "cell_type": "code",
      "metadata": {
        "colab": {
          "base_uri": "https://localhost:8080/"
        },
        "id": "OhLuAz2B6VQm",
        "outputId": "7b35ccb4-561a-4d5c-d0cf-3904e472cc9f"
      },
      "source": [
        "f2_min = gradient_descent(grad_f2, 0, 0.02) #initial value = 0, learning  rate = 0.02\n",
        "print(\"Minima Occurs at:\" + str(f2_min)) #returns the value at which minima occurs for the given function"
      ],
      "execution_count": null,
      "outputs": [
        {
          "output_type": "stream",
          "name": "stdout",
          "text": [
            "Minima Occurs at:-1.366\n"
          ]
        }
      ]
    },
    {
      "cell_type": "markdown",
      "metadata": {
        "id": "S2fXADuF9M7H"
      },
      "source": [
        "## Part(b)"
      ]
    },
    {
      "cell_type": "markdown",
      "metadata": {
        "id": "re7zcIFzEVQJ"
      },
      "source": [
        "We need to fit the following regression equation $$y = aX+b$$ <br>\n",
        "So, for the above equation our ***gradient descent*** update steps for $a$ and $b$ are: $$a^{t+1} = a^t - \\alpha \\frac{1}{n}\\sum_{i=1}^{n} ((y_{pred}^i - y^i)x^i)$$<br>\n",
        "$$b^{t+1} = b^t - \\alpha \\frac{1}{n}\\sum_{i=1}^{n} (y_{pred}^i - y^i)$$<br>\n",
        "So the corresponding expressions for gradients are: ```grad_a```$ =  \\frac{1}{n}\\sum_{i=1}^{n} ((y_{pred}^i - y^i)x^i)$ ; ```grad_b``` = $\\frac{1}{n}\\sum_{i=1}^{n} (y_{pred}^i - y^i)$<br><br>\n",
        "The following gradients are implemented in the function ```linearGrad``` which returns the gradients for parametres $a$ and $b$. Inside the function before calculating the gradient I always shuffle the complete data using ```np.random.choice```\n"
      ]
    },
    {
      "cell_type": "code",
      "metadata": {
        "id": "wH1Xxhx39PBS"
      },
      "source": [
        "# y = ax+b\n",
        "def linearGrad(param):\n",
        "  n = X.shape[0]\n",
        "  np.random.seed(0)\n",
        "  randIdx = np.random.choice(n, n) #using this I shuffle my complete data everytime\n",
        "  X_gd = X[randIdx] #shuffled X\n",
        "  y_gd = y[randIdx] #shuffled y\n",
        "  a = param[0]\n",
        "  b = param[1]\n",
        "  ynew = a*X_gd + b\n",
        "  grad_a = ((ynew-y_gd)*X_gd).mean()\n",
        "  grad_b = (ynew-y_gd).mean()\n",
        "  return np.array([grad_a, grad_b])"
      ],
      "execution_count": 26,
      "outputs": []
    },
    {
      "cell_type": "markdown",
      "metadata": {
        "id": "yUsm9SES9T_V"
      },
      "source": [
        "## Part(c)"
      ]
    },
    {
      "cell_type": "code",
      "metadata": {
        "id": "0zwLHif19V7s"
      },
      "source": [
        "np.random.seed(0)\n",
        "X = 2.5*np.random.randn(10000) + 1.5\n",
        "res = 1.5*np.random.randn(10000)\n",
        "y = 2 + 0.3*X + res"
      ],
      "execution_count": 5,
      "outputs": []
    },
    {
      "cell_type": "markdown",
      "metadata": {
        "id": "vXW5mJnZhcys"
      },
      "source": [
        "Here, I test the ```gradient_descent``` for our simulated data using ```linearGrad``` as our gradient calculation function. I use ```[3.5, 2.5]``` as the starting values and ```0.05``` as the optimum learning rate. As a result I get the fitted equation as $y = 0.292x+2.023$ which is very close to the ideal $y = 0.3x+2$ .<br><br>\n",
        "The code cell below also calculates the time taken by ```gradient_descent``` to run using the ```time``` module of python"
      ]
    },
    {
      "cell_type": "code",
      "metadata": {
        "colab": {
          "base_uri": "https://localhost:8080/"
        },
        "id": "fbH9JVMt4S_3",
        "outputId": "7005f97c-166d-4b51-e490-87dc16b7f418"
      },
      "source": [
        "begin = time.time()\n",
        "reg_params = gradient_descent(linearGrad, init_=np.array([3.5,2.5]), learn_rate=0.05)\n",
        "print('y = {:.3f}*X + {:.3f}'.format(reg_params[0], reg_params[1]))\n",
        "end = time.time()\n",
        "print(f\"Total runtime of the program is {end - begin}\")"
      ],
      "execution_count": 176,
      "outputs": [
        {
          "output_type": "stream",
          "name": "stdout",
          "text": [
            "y = 0.292*X + 2.023\n",
            "Total runtime of the program is 0.09563922882080078\n"
          ]
        }
      ]
    },
    {
      "cell_type": "markdown",
      "metadata": {
        "id": "ZwIbq-CUjVkd"
      },
      "source": [
        "## Part(d): Minibatch SGD"
      ]
    },
    {
      "cell_type": "markdown",
      "metadata": {
        "id": "9exjAKnMibgG"
      },
      "source": [
        "Here, I test the ```gradient_descent``` for our simulated data using ```minibatchSGD_grad``` as our gradient calculation function. I use ```[3.5, 2.5]``` as the starting values and ```0.05``` as the optimum learning rate. As a result I get the fitted equation as $y = 0.301x+2.047$ (get this value when you uncomment the seed line ```np.random.seed(1)``` inside the function) which is very close to the ideal $y = 0.3x+2$ .<br><br>\n",
        "The code cell below also calculates the time taken by ```gradient_descent``` to run using the ```time``` module of python"
      ]
    },
    {
      "cell_type": "code",
      "metadata": {
        "id": "m0-2-Lz29-nt"
      },
      "source": [
        "def miniBatchSGD_grad(param):\n",
        "  n = X.shape[0]\n",
        "  #np.random.seed(1)\n",
        "  randIdx = np.random.choice(n, B) #randomly choose B numbers out of n possible values, where B = batchSize\n",
        "  X_mini = X[randIdx] #select values of X based on randomly chosen values previously\n",
        "  y_mini = y[randIdx] #select values of y based on randomly chosen values previously\n",
        "  a = param[0]\n",
        "  b = param[1]\n",
        "  ynew = a*X_mini + b\n",
        "  grad_a = ((ynew-y_mini)*X_mini).mean() #gradient of a\n",
        "  grad_b = (ynew-y_mini).mean()  #gradient of b\n",
        "  return np.array([grad_a, grad_b])"
      ],
      "execution_count": 24,
      "outputs": []
    },
    {
      "cell_type": "code",
      "metadata": {
        "colab": {
          "base_uri": "https://localhost:8080/"
        },
        "id": "DUAi6Gm2_Be6",
        "outputId": "90815f65-1303-4a6d-f4e2-af1c06079828"
      },
      "source": [
        "begin = time.time()\n",
        "B = 256 #B = batchSize\n",
        "reg_params = gradient_descent(miniBatchSGD_grad, init_= np.array([3.5,2.5]), learn_rate=0.05) #initial value = [3.5, 2.5], learning rate = 0.05\n",
        "print('y = {:.3f}*X + {:.3f}'.format(reg_params[0], reg_params[1]))\n",
        "end = time.time()\n",
        "print(f\"Total runtime of the program is {end - begin}\")"
      ],
      "execution_count": 166,
      "outputs": [
        {
          "output_type": "stream",
          "name": "stdout",
          "text": [
            "y = 0.301*X + 2.047\n",
            "Total runtime of the program is 0.0227506160736084\n"
          ]
        }
      ]
    },
    {
      "cell_type": "markdown",
      "metadata": {
        "id": "QrPDr-0ekEas"
      },
      "source": [
        "## Part(e)"
      ]
    },
    {
      "cell_type": "markdown",
      "metadata": {
        "id": "M1FnDWXuT4mq"
      },
      "source": [
        "minBatch SGD becomes SGD when Batch Size = 1"
      ]
    },
    {
      "cell_type": "code",
      "metadata": {
        "colab": {
          "base_uri": "https://localhost:8080/"
        },
        "id": "0RGVtXaxT2Rr",
        "outputId": "12ea5e55-8118-4c61-e281-3cb70feb382a"
      },
      "source": [
        "## Stochastic Gradient Descent\n",
        "begin = time.time()\n",
        "B = 1 #B = batchSize\n",
        "reg_params = gradient_descent(miniBatchSGD_grad, init_= np.array([3.5,2.5]), learn_rate=0.05) #initial value = [3.5, 2.5], learning rate = 0.05\n",
        "end = time.time()\n",
        "print(f\"Total runtime of the program is {end - begin}\")"
      ],
      "execution_count": 32,
      "outputs": [
        {
          "output_type": "stream",
          "name": "stdout",
          "text": [
            "Total runtime of the program is 0.003300905227661133\n"
          ]
        }
      ]
    },
    {
      "cell_type": "markdown",
      "metadata": {
        "id": "fJtRHv5Z4ZF0"
      },
      "source": [
        "From Part(c), we find the runtime for ```gradient_descent``` to be ***0.096 secs***, where as for ```miniBatchSGD``` we find the runtime to be ***0.023 secs***. Thus **miniBatchSGD** performs faster than normal gradient descent, which is expected since gradient descent uses all points to calculate gradient for the update step.<br><br>\n",
        "SGD as well as miniBatch SGD both perform better in terms of time as compared to Gradient Descent which can be seen in Plot 2 below.<br><br>\n",
        "Order of Performance just on the basis of time: Gradient Descent > miniBatchSGD > SGD"
      ]
    },
    {
      "cell_type": "markdown",
      "metadata": {
        "id": "WvslG6oiVgHT"
      },
      "source": [
        "#### Computation of Optimum Mini Batch Size"
      ]
    },
    {
      "cell_type": "code",
      "metadata": {
        "colab": {
          "base_uri": "https://localhost:8080/"
        },
        "id": "RawEEgRBLeuN",
        "outputId": "7df71969-9871-42b2-9550-10db25fef056"
      },
      "source": [
        "batch_sizes = [] #creating a list of different batch sizes to test for optimum batch size\n",
        "i = 0\n",
        "while(2**i < 10000):\n",
        "  batch_sizes.append(2**i)\n",
        "  i+=1\n",
        "batch_sizes.append(10000)\n",
        "batch_sizes # using batch sizes in the powers of 2"
      ],
      "execution_count": 117,
      "outputs": [
        {
          "output_type": "execute_result",
          "data": {
            "text/plain": [
              "[1, 2, 4, 8, 16, 32, 64, 128, 256, 512, 1024, 2048, 4096, 8192, 10000]"
            ]
          },
          "metadata": {},
          "execution_count": 117
        }
      ]
    },
    {
      "cell_type": "code",
      "metadata": {
        "id": "_qyZaJvCCQKV"
      },
      "source": [
        "loss_lst = [] #list to store training loss for all minibatch sizes\n",
        "runTime = [] #list to store total time taken for all minibatch sizes\n",
        "bIter = 7    #no. of iterations used to calculate avg loss and avg time taken for a particular batch size\n",
        "learn_rate = 0.05\n",
        "n_iter = 1000\n",
        "\n",
        "def loss(param): #loss function to calculate total loss for a particular param\n",
        "  n = X.shape[0]\n",
        "  a = param[0]\n",
        "  b = param[1]\n",
        "  ynew = a*X + b\n",
        "  regLoss = np.dot((ynew- y).T,(ynew - y))/n ## ||(ynew-y)||^2\n",
        "  return regLoss\n",
        "\n",
        "for B in batch_sizes:\n",
        "  lossCurr = 0\n",
        "  timeCurr = 0\n",
        "  for _ in range(bIter):\n",
        "    init_ =  [3.5,2.5] #initialisation for param\n",
        "    start_time = time.time()\n",
        "    param = gradient_descent(miniBatchSGD_grad,init_,learn_rate,n_iter)\n",
        "    end_time = time.time()\n",
        "    loss_temp = loss(param) #to store loss value at a single iteration\n",
        "    lossCurr+=loss_temp #stores loss value for all iterations by adding them up\n",
        "    timeCurr+=(end_time-start_time)\n",
        "\n",
        "  loss_lst.append(lossCurr/bIter)\n",
        "  runTime.append(timeCurr/bIter)  "
      ],
      "execution_count": 173,
      "outputs": []
    },
    {
      "cell_type": "markdown",
      "metadata": {
        "id": "Lu-5YtIYXxYV"
      },
      "source": [
        "#### **Plot of Training Loss v/s $\\log_2$(batch_size) for Minibatch SGD**<br>\n",
        "&emsp;&emsp;&emsp;&emsp;&emsp;&emsp;&emsp;&emsp;&emsp;&emsp;&emsp;&emsp;&emsp; Plot 1"
      ]
    },
    {
      "cell_type": "code",
      "metadata": {
        "colab": {
          "base_uri": "https://localhost:8080/",
          "height": 280
        },
        "id": "5AlkLa8fNSj_",
        "outputId": "8ccc0872-f8eb-4f28-8095-4484f64a2c5d"
      },
      "source": [
        "plt.xlabel(\"Log_2(batch size)\")\n",
        "plt.ylabel(\"Training loss\")\n",
        "plt.plot(np.log2(batch_sizes),loss_lst,marker='o')\n",
        "plt.show()"
      ],
      "execution_count": 174,
      "outputs": [
        {
          "output_type": "display_data",
          "data": {
            "image/png": "[encoded data removed]",
            "text/plain": [
              "<Figure size 432x288 with 1 Axes>"
            ]
          },
          "metadata": {
            "needs_background": "light"
          }
        }
      ]
    },
    {
      "cell_type": "markdown",
      "metadata": {
        "id": "JbiimUG-YIjN"
      },
      "source": [
        "#### **Plot of Time Taken v/s $\\log_2$(batch_size) for Minibatch SGD**<br>\n",
        "&emsp;&emsp;&emsp;&emsp;&emsp;&emsp;&emsp;&emsp;&emsp;&emsp;&emsp;&emsp;&emsp; Plot 2"
      ]
    },
    {
      "cell_type": "code",
      "metadata": {
        "colab": {
          "base_uri": "https://localhost:8080/",
          "height": 280
        },
        "id": "w4cySZ4-Nil1",
        "outputId": "205a776a-d5f3-4224-f3b8-78cf4d7f31e8"
      },
      "source": [
        "plt.xlabel(\"Log_2(batch size)\")\n",
        "plt.ylabel(\"Time taken\")\n",
        "plt.plot(np.log2(batch_sizes),runTime,marker = 'o')\n",
        "plt.show()"
      ],
      "execution_count": 175,
      "outputs": [
        {
          "output_type": "display_data",
          "data": {
            "image/png": "[encoded data removed]",
            "text/plain": [
              "<Figure size 432x288 with 1 Axes>"
            ]
          },
          "metadata": {
            "needs_background": "light"
          }
        }
      ]
    },
    {
      "cell_type": "markdown",
      "metadata": {
        "id": "DZpfVNXoXvQ_"
      },
      "source": [
        "### Conclusion:\n",
        "As we can see from **plot1** that with increase in batch size the training loss drops which afterwards gets saturated. This is expected as when the gradient update step sees more data, loss is bound to decrease.<br>\n",
        "We can also see from **plot2** that with increase in batch size the time taken for training increases. This is also expected since more the data points our update step sees more will be the time involved in computations.<br>\n",
        "Hence, there exists an optimum miniBatch Size.<br>\n",
        "So, our choice of **Optimum miniBatch Size** will be based on both the 2 parameters: *Training Loss* as well as *Time Taken to Train*.<br>\n",
        "Based on this when we observe both the plots we find that optimum of both the decided parameters occur when we have $\\log_2miniBatch = 8$ i.e. $miniBatchSize = 2^8 = 256$ <br><br>\n",
        "Hence, we can conclude that *approximately* optimum miniBatch Size is ***256***\n"
      ]
    },
    {
      "cell_type": "markdown",
      "metadata": {
        "id": "TBPw0fjSOMft"
      },
      "source": [
        "##  Q2 Part(a)"
      ]
    },
    {
      "cell_type": "markdown",
      "metadata": {
        "id": "-KjVgPqKPP36"
      },
      "source": [
        "Using Simple Conditional Probability:<br><br>\n",
        "$P(Cold = True, Fever = True) = P(Fever = True|Cold = True) \\times P(Cold = True)$ <br>\n",
        "&emsp;&emsp;&emsp;&emsp;&emsp;&emsp;&emsp;&emsp;&emsp;&emsp;&emsp;&emsp;&emsp;&emsp;&emsp;&nbsp;&nbsp;&nbsp;&nbsp;&nbsp;&nbsp;&nbsp;&nbsp;&nbsp;$ = (0.307)\\times(0.02) = 0.00614$"
      ]
    },
    {
      "cell_type": "markdown",
      "metadata": {
        "id": "_MpzbecyPmXy"
      },
      "source": [
        "## Q2 Part (b)"
      ]
    },
    {
      "cell_type": "markdown",
      "metadata": {
        "id": "wemnqrWaTWUc"
      },
      "source": [
        "#### **We need to calculate $P(Cold=True|Cough=True)$ which is given (Using Bayes Theorem) by:** <br><br>\n",
        "$$P(Cold=True|Cough=True) = \\frac{P(Cough=True|Cold=True)\\times P(Cold=True)}{P(Cough=True)}$$<br>\n",
        "#### **To calculate the required probability we need the values of the 3 terms in our expression above. We already know $P(Cold=True)=0.02$ from the Bayesian Tables in the problem. Now first let us calculate $P(Cough=True)$**<br><br>\n",
        "#### **Applying Law of Total Probability:**\n",
        "\n",
        "Eq1.) $P(Cough=True) = P(Cough=True|Cold=True, LungDisease=True)*P(Cold=True)*P(LungDisease=True)+P(Cough=True|Cold=False, LungDisease=True)*P(Cold=False)*P(LungDisease=True)+P(Cough=True|Cold=True, LungDisease=False)*P(Cold=True)*P(LungDisease=False)+P(Cough=True|Cold=False, LungDisease=False)*P(Cold=False)*P(LungDisease=False)$<br><br>\n",
        "#### **The Required Conditional Probabilities and $P(Cold=True)$ & $P(Cold=False)$ can be found from the tables. For solving the expression above we need $P(Lung Disease=True)$ & $P(Lung Disease=False)$**<br>\n",
        "$P(LungDisease=True) = P(LungDisease=True|Smokes=True)P(Smokes=True) + P(LungDisease=True|Smokes=False)P(Smokes=False)$<br><br>\n",
        "$P(LungDisease=True) = 0.1009*0.2+0.001*0.8 = 0.02098$<br><br>\n",
        "$P(LungDisease=False)=1-P(LungDisease=True)$<br>\n",
        "&emsp;&emsp;&emsp;&emsp;&emsp;&emsp;&emsp;&emsp;&emsp;&emsp;&emsp;&emsp;&emsp;&emsp;&nbsp;$=1-0.02098 = 0.9702$<br><br>\n",
        "#### **Now Plugging in the values in *Eq. 1* of $P(Cough=True)$ we get:**\n",
        "\n",
        "$P(Cough=True) = 0.7525*0.02*0.02098+0.505*0.98*0.02098+0.505*0.02*0.9702+$<br>&emsp;&emsp;&emsp;&emsp;&emsp;&emsp;&emsp;&emsp;&emsp;&emsp;&emsp;&nbsp;$0.01*0.98*0.97902$<br>\n",
        "$P(Cough=True) = 0.0302$<br><br>\n",
        "\n",
        "#### **Now let us calculate the value of $P(Cough=True|Cold=True)$:**<br>\n",
        "$P(Cough=True|Cold=True) = P(Cough=True|Cold=True, LungDisease=True)*P(LungDisease=True) + P(Cough=True|Cold=True, LungDisease=False)*P(LungDisease=False)$<br><br>\n",
        "$P(Cough=True|Cold=True) = 0.7525*0.02098+0.505*0.97902$<br>\n",
        "&emsp;&emsp;&emsp;&emsp;&emsp;&emsp;&emsp;&emsp;&emsp;&emsp;&emsp;&emsp;&emsp;&emsp;&emsp;&emsp;&emsp;&nbsp;&nbsp;$=0.5102$<br>\n",
        "<br>\n",
        "#### **Finally calculating the required probability**\n",
        "$P(Cold=True|Cough=True) = \\frac{P(Cough=True|Cold=True)\\times P(Cold=True)}{P(Cough=True)}$<br><br>\n",
        "&emsp;&emsp;&emsp;&emsp;&emsp;&emsp;&emsp;&emsp;&emsp;&emsp;&emsp;&nbsp;&emsp;&emsp;&emsp;&emsp;&emsp;&nbsp;&nbsp;$=\\frac{0.5102\\times0.02}{0.0302} = 0.3381$\n",
        "\n",
        "\n",
        "\n",
        "\n"
      ]
    },
    {
      "cell_type": "markdown",
      "metadata": {
        "id": "OvM1upBIbeoQ"
      },
      "source": [
        "## Q3: Finding MLE for multinomial distribution"
      ]
    },
    {
      "cell_type": "markdown",
      "metadata": {
        "id": "nvQRwEAGKmYh"
      },
      "source": [
        "Let $X$ be a Random Variable following multinomial distribution in which $x_i$ is the number of success of the $i^{th}$ category for $n$ random draws, and $p_i$ is the probability of success of the $i^{th}$ category. Then, $$P(X=x, n, \\mathbf{p}) = n! \\prod_{i=1}^{k} \\frac{p_{i}^{x_i}}{x_i !}$$<br>\n",
        "where, <br> \n",
        "$$\\sum_{i=1}^{k} p_i = 1$$ <br>\n",
        "For the given multinomial distribution log-likelihood can be written as:$$l(\\mathbf{p}) = \\log(n! \\prod_{i=1}^{k} \\frac{p_{i}^{x_i}}{x_i !})$$<br>\n",
        "$$l(\\mathbf{p})=\\log n! + \\sum_{i=1}^{k} x_i \\log p_i - \\sum_{i=1}^{k} \\log x_i!$$<br>\n",
        "\n",
        "For MLE estimate of $\\mathbf{p}$, assuming $n$ is known, we solve the following optimization problem:$$\\max_{\\mathbf{p}}l(\\mathbf{p},n)$$ <br>\n",
        "such that $$\\sum_{k=1}^{K}p_i = 1$$\n",
        "\n",
        "Maximizing the log-likelihood is a constrained optimization problem and we use *Lagrangian* to solve this.$$\\mathcal{L}(\\mathbf{p},\\lambda) = l(\\mathbf{p}) + \\lambda(1-\\sum_{i=1}^{k} p_i)$$<br>\n",
        "Solving: $$\\frac{\\partial \\mathcal{L}}{\\partial p_i} = 0$$<br>\n",
        "$$\\frac{\\partial \\mathcal{L}}{\\partial p_i} = \\frac{\\partial l}{\\partial p_i}+\\frac{\\partial (\\lambda(1-\\sum_{i=1}^{k} p_i))}{\\partial p_i} = 0$$<br>\n",
        "$$\\frac{\\partial l}{\\partial p_i} = 0 + \\frac{\\partial \\sum_{i=1}^{k} x_i \\log p_i }{\\partial p_i} + 0$$<br>\n",
        "$$\\frac{\\partial \\mathcal{L}}{\\partial p_i} = \\frac{\\partial \\sum_{i=1}^{k} x_i \\log p_i }{\\partial p_i} - \\lambda\\partial\\frac{ \\sum_{i=1}^{k} p_i }{\\partial p_i} = 0$$<br>\n",
        "$$ \\frac{x_i}{p_i} - \\lambda = 0 $$<br>\n",
        "$$p_i = \\frac{x_i}{\\lambda}$$<br>\n",
        "Since given our constraint, $$\\sum_{i=1}^{k} p_i = 1$$<br>\n",
        "we have, $$\\sum_{i=1}^{k} \\frac{x_i}{\\lambda} = 1$$<br>\n",
        "$$\\lambda = \\sum_{i=1}^{k} x_i$$<br>\n",
        "$$\\lambda = n$$<br>\n",
        "Therefore our MLE estimate:$$\\hat{p_i} = \\frac{x_i}{n}$$<br>\n",
        "$$\\hat{\\mathbf{p}} = [\\frac{x_1}{n}, \\frac{x_2}{n}....\\frac{x_k}{n}]$$\n",
        "\n"
      ]
    }
  ]
}