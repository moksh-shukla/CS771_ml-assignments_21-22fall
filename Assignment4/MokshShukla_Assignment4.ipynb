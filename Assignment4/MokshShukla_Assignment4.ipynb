{
  "nbformat": 4,
  "nbformat_minor": 0,
  "metadata": {
    "kernelspec": {
      "display_name": "Python 3",
      "language": "python",
      "name": "python3"
    },
    "language_info": {
      "codemirror_mode": {
        "name": "ipython",
        "version": 3
      },
      "file_extension": ".py",
      "mimetype": "text/x-python",
      "name": "python",
      "nbconvert_exporter": "python",
      "pygments_lexer": "ipython3",
      "version": "3.7.9"
    },
    "colab": {
      "name": "MokshShukla_Assignment4",
      "provenance": []
    }
  },
  "cells": [
    {
      "cell_type": "markdown",
      "metadata": {
        "id": "MhWw0EZ6vys0"
      },
      "source": [
        "# **CS771 Assignment 4**<br>\n",
        "### Name: Moksh Shukla\n",
        "### Roll No: 180433"
      ]
    },
    {
      "cell_type": "markdown",
      "metadata": {
        "id": "FVOj3bZX4Xdf"
      },
      "source": [
        "Use any additional libraries you want, but if you don't explicitly code stuff that I have explicitly asked you to code, you will not get marks."
      ]
    },
    {
      "cell_type": "markdown",
      "metadata": {
        "id": "fDWhdyQF4Xdi"
      },
      "source": [
        "### Q1. Kernel k-means\n",
        "\n",
        "Let's try and end our course on a happy note. The smiley dataset you see below is made up of many clusters of points. "
      ]
    },
    {
      "cell_type": "code",
      "metadata": {
        "id": "SGQOxz4C4Xdk"
      },
      "source": [
        "import numpy as np\n",
        "import numpy.linalg as lin\n",
        "import numpy.random as rnd\n",
        "from matplotlib import pyplot as plt\n",
        "\n",
        "\n",
        "def getFigure( sizex = 7, sizey = 7 ):\n",
        "    fig = plt.figure( figsize = (sizex, sizey) )\n",
        "    return fig\n",
        "\n",
        "def plot2D( X, fig, color = 'r', marker = '+', size = 100, empty = False ):\n",
        "    plt.figure( fig.number )\n",
        "    if empty:\n",
        "        plt.scatter( X[:,0], X[:,1], s = size, facecolors = 'none', edgecolors = color, marker = marker  )\n",
        "    else:\n",
        "        plt.scatter( X[:,0], X[:,1], s = size, c = color, marker = marker )\n",
        "\n",
        "\n",
        "def genCrescentData( d, n, mu, r, flipped = False ):\n",
        "    X = np.vstack( (np.cos( np.linspace( 0, np.pi, n ) ), np.sin( np.linspace( 0, np.pi, n ) ) ) ).T\n",
        "    if flipped:\n",
        "        X[:,1] = -np.abs( X[:,1] )\n",
        "    else:\n",
        "        X[:,1] = np.abs( X[:,1] )\n",
        "    X = (X * r) + mu\n",
        "    return X\n",
        "\n",
        "def genSphericalData( d, n, mu, r ):\n",
        "    X = rnd.normal( 0, 1, (n, d) )\n",
        "    norms = lin.norm( X, axis = 1 )\n",
        "    X = X / norms[:, np.newaxis]\n",
        "    X = (X * r) + mu\n",
        "    return X"
      ],
      "execution_count": 46,
      "outputs": []
    },
    {
      "cell_type": "code",
      "metadata": {
        "id": "0Hvuitvq4Xdn"
      },
      "source": [
        "d = 2\n",
        "n = 200\n",
        "\n",
        "mu1 = np.array( [0,0] )\n",
        "mu2 = np.array( [0,1] )\n",
        "mu3 = np.array( [0,0] )\n",
        "mu4 = np.array( [-3,5] )\n",
        "mu5 = np.array( [3,5] )\n",
        "\n",
        "tmp1 = genCrescentData( d, n, mu1, 1 )\n",
        "tmp2 = genCrescentData( d, n, mu2, 5, flipped = True )\n",
        "tmp3 = genSphericalData( d, n, mu3, 10 )\n",
        "tmp4 = genSphericalData( d, n, mu4, 1 )\n",
        "tmp5 = genSphericalData( d, n, mu5, 1 )\n",
        "X = np.vstack( (tmp1, tmp2, tmp3, tmp4, tmp5) )"
      ],
      "execution_count": 47,
      "outputs": []
    },
    {
      "cell_type": "code",
      "metadata": {
        "colab": {
          "base_uri": "https://localhost:8080/",
          "height": 483
        },
        "id": "4R8GnUbz4Xdp",
        "outputId": "6a970dc5-4b85-4aea-8fce-05f66c43029d"
      },
      "source": [
        "fig = getFigure( 8, 8 )\n",
        "plot2D( X, fig, size = 50, color = 'b', marker = 'o' )"
      ],
      "execution_count": 48,
      "outputs": [
        {
          "output_type": "display_data",
          "data": {
            "image/png": "[encoded data removed]",
            "text/plain": [
              "<Figure size 576x576 with 1 Axes>"
            ]
          },
          "metadata": {
            "needs_background": "light"
          }
        }
      ]
    },
    {
      "cell_type": "markdown",
      "metadata": {
        "id": "pTQ-hYow4Xdq"
      },
      "source": [
        "(a) Can you implement the k-means algorithm to cluster this dataset? Visualize your output. [10 points] \n",
        "\n",
        "(b) Implement k-means++ to initialize cluster centers usefully. [5 points]\n",
        "\n",
        "(c) What value of k gives you the best clustering? Are you happy with the quality of the clustering? [5 points]\n"
      ]
    },
    {
      "cell_type": "markdown",
      "metadata": {
        "id": "3iBTBO0R4Xdr"
      },
      "source": [
        "(d) I'm going to say that we want to be able to do better than this. So I want you to kernelize your k-means algorithm with a Gaussian kernel. Visualize the clustering output of your kernel k-means algorithm [15 points]"
      ]
    },
    {
      "cell_type": "markdown",
      "metadata": {
        "id": "zs3nXquJgpHw"
      },
      "source": [
        "### ***Part a)***"
      ]
    },
    {
      "cell_type": "code",
      "metadata": {
        "id": "cHlOTli7gob5"
      },
      "source": [
        "import matplotlib.pyplot as plt\n",
        "import matplotlib.cm as cm"
      ],
      "execution_count": 34,
      "outputs": []
    },
    {
      "cell_type": "code",
      "metadata": {
        "id": "dF4LZCLNgwcr"
      },
      "source": [
        "#writing the kmeans algorithm\n",
        "def K_means_training(N,X,mu,A,K):\n",
        "    mu_old = mu + 1\n",
        "    itr = 0\n",
        "    #Convergence Criterion used to break when cluster means do not change much\n",
        "    while(np.sum(pow(mu-mu_old,2)) > 1e-8):\n",
        "        itr += 1\n",
        "        for i in range(N):\n",
        "            dist = np.array([sum(pow(X[i]-mu_k,2)) for mu_k in mu])\n",
        "            res = np.argmin(dist)\n",
        "            #Updating the cluster for each example\n",
        "            A[i] = res\n",
        "        for i in range(K):\n",
        "            mu_old[i] = mu[i]\n",
        "            values = np.array(np.array([X[j] for j in range(N) if A[j] == i]))\n",
        "            #Updating the cluster means for each cluster\n",
        "            mu[i] = np.mean(values,axis=0)\n",
        "    print(\"Total Iterations : \"+ str(itr))\n",
        "    return (mu,A)"
      ],
      "execution_count": 53,
      "outputs": []
    },
    {
      "cell_type": "code",
      "metadata": {
        "id": "-3HINWkrgy_C"
      },
      "source": [
        "#plot function to be called to plot clusters with their final centres\n",
        "def plot_clusters(X,A,mu,K,N):\n",
        "    fig = plt.figure(figsize = (6,6))\n",
        "    colors = np.array([\"red\",\"green\",\"blue\",\"yellow\",\"purple\",\"orange\",\"beige\",\"brown\",\"gray\",\"cyan\",\"magenta\"])[:K]\n",
        "    plt.title(\"K = \" + str(K))\n",
        "    plt.scatter(mu[:,0] , mu[:,1], color=\"black\", marker=\"X\")\n",
        "    for i in range(K):\n",
        "        x_plot = np.array([X[x] for x in range(N) if A[x] == i])\n",
        "        plt.scatter(x_plot[:,0] , x_plot[:,1], color=colors[i])"
      ],
      "execution_count": 39,
      "outputs": []
    },
    {
      "cell_type": "code",
      "metadata": {
        "id": "EH4wKg-8g1iq"
      },
      "source": [
        "#setting up the parameters for the kmeans clustering\n",
        "K = 5  # k: the number of clusters\n",
        "N = X.shape[0]\n",
        "mu = np.empty((0,2),int) #Randomly initializing the cluster centres\n",
        "A = np.zeros(N)\n",
        "loss_arr = np.empty((0,1),int)\n",
        "for i in range(0,K):\n",
        "    index = rnd.randint(N)\n",
        "    mu = np.append(mu, np.array([X[index]]), axis=0);\n",
        "itr = 25"
      ],
      "execution_count": 49,
      "outputs": []
    },
    {
      "cell_type": "code",
      "metadata": {
        "colab": {
          "base_uri": "https://localhost:8080/",
          "height": 408
        },
        "id": "8q9rLGHaiTTn",
        "outputId": "0a4fcb8a-d8f5-4c55-c82a-85dd66af1fd2"
      },
      "source": [
        "(mu, A) = K_means_training(N,X,mu,A,K)\n",
        "#Plotting the points with cluster means\n",
        "plot_clusters(X,A,mu,K,N)"
      ],
      "execution_count": 54,
      "outputs": [
        {
          "output_type": "stream",
          "name": "stdout",
          "text": [
            "Total Iterations : 12\n"
          ]
        },
        {
          "output_type": "display_data",
          "data": {
            "image/png": "[encoded data removed]",
            "text/plain": [
              "<Figure size 432x432 with 1 Axes>"
            ]
          },
          "metadata": {
            "needs_background": "light"
          }
        }
      ]
    },
    {
      "cell_type": "markdown",
      "metadata": {
        "id": "1gWEgXXQjIjo"
      },
      "source": [
        "### ***Part b)***"
      ]
    },
    {
      "cell_type": "code",
      "metadata": {
        "id": "DOxbZoP5jLsR"
      },
      "source": [
        "#function to generate the centroids using kmeans++\n",
        "def K_means_plus_gen(km_plus_mu):\n",
        "    #choose one point randomly \n",
        "    index = rnd.randint(N) \n",
        "    km_plus_mu = np.append(km_plus_mu, np.array([X[index]]), axis=0)\n",
        "    for k in range(1,K):\n",
        "        for x in range(N):\n",
        "            curr_dist = np.amin(np.array([pow(sum(pow(X[x] - mu_k,2)),0.5) for mu_k in km_plus_mu]))\n",
        "            dist[x] = curr_dist\n",
        "        prob = pow(dist,2)  #randomly choosing the next cluster centre with probability of choosing a point x=D^2\n",
        "        prob = prob/sum(prob)\n",
        "        index = rnd.choice(range(0,N),p=prob)\n",
        "        km_plus_mu = np.append(km_plus_mu, np.array([X[index]]), axis=0)\n",
        "    return km_plus_mu"
      ],
      "execution_count": 56,
      "outputs": []
    },
    {
      "cell_type": "code",
      "metadata": {
        "id": "9BQEG6h8jo_W"
      },
      "source": [
        "#initializing the parameters again\n",
        "K = 5\n",
        "N = X.shape[0]\n",
        "A = np.zeros(N)\n",
        "loss_arr = np.empty((0,1),int)\n",
        "itr = 25\n",
        "km_plus_mu = np.empty((0,2),int)\n",
        "dist = np.zeros(N)"
      ],
      "execution_count": 64,
      "outputs": []
    },
    {
      "cell_type": "code",
      "metadata": {
        "colab": {
          "base_uri": "https://localhost:8080/",
          "height": 265
        },
        "id": "37bFzQNNkd1p",
        "outputId": "c31f32bc-edf2-4c16-d30d-7b337c6f67c1"
      },
      "source": [
        "#plotting cluster centres generated with kmeans++\n",
        "km_plus_mu = K_means_plus_gen(km_plus_mu)\n",
        "km_plus_mu\n",
        "plt.scatter(km_plus_mu[:,0] , km_plus_mu[:,1], color = 'red')\n",
        "plt.show()"
      ],
      "execution_count": 65,
      "outputs": [
        {
          "output_type": "display_data",
          "data": {
            "image/png": "[encoded data removed]",
            "text/plain": [
              "<Figure size 432x288 with 1 Axes>"
            ]
          },
          "metadata": {
            "needs_background": "light"
          }
        }
      ]
    },
    {
      "cell_type": "code",
      "metadata": {
        "colab": {
          "base_uri": "https://localhost:8080/",
          "height": 408
        },
        "id": "tf5a4jMkkI8X",
        "outputId": "f76c130d-af79-4513-e5ae-59d640c658f2"
      },
      "source": [
        "#running the kmeans algo using the centroids initialized with kmeans++\n",
        "(mu_f,A) = K_means_training(N,X,km_plus_mu,A,K)\n",
        "plot_clusters(X,A,mu_f,K,N)"
      ],
      "execution_count": 60,
      "outputs": [
        {
          "output_type": "stream",
          "name": "stdout",
          "text": [
            "Total Iterations : 11\n"
          ]
        },
        {
          "output_type": "display_data",
          "data": {
            "image/png": "[encoded data removed]",
            "text/plain": [
              "<Figure size 432x432 with 1 Axes>"
            ]
          },
          "metadata": {
            "needs_background": "light"
          }
        }
      ]
    },
    {
      "cell_type": "markdown",
      "metadata": {
        "id": "_LmUrr0plrik"
      },
      "source": [
        "### ***Part c)*** Best K value for clustering"
      ]
    },
    {
      "cell_type": "code",
      "metadata": {
        "colab": {
          "base_uri": "https://localhost:8080/"
        },
        "id": "atvFjqeFlw0E",
        "outputId": "92887c73-a535-4496-d830-6008b2430df3"
      },
      "source": [
        "#running with different values of K,\n",
        "# K = 4 - 10\n",
        "loss_arr = np.array([])\n",
        "for K in range(4,11):\n",
        "    N = X.shape[0]\n",
        "    A = np.zeros(N)\n",
        "    km_plus_mu = np.empty((0,2),int) #initializing empty array\n",
        "    dist = np.zeros(N)\n",
        "    km_plus_mu = k_means_plus_gen(km_plus_mu) #kmeans++ generated centroids\n",
        "    \n",
        "    (mu_f,A) = K_means_training(N,X,km_plus_mu,A,K)\n",
        "    loss = 0\n",
        "    for x in range(N):\n",
        "        index = A[x]\n",
        "        loss += pow(sum(pow(X[x]-mu_f[int(index)],2)),0.5)\n",
        "    loss_arr = np.append(loss_arr,loss) #loss array storing the loss for each K value\n",
        "    print(\"K : \", K, \" - \", loss)"
      ],
      "execution_count": 69,
      "outputs": [
        {
          "output_type": "stream",
          "name": "stdout",
          "text": [
            "Total Iterations : 12\n",
            "K :  4  -  2741.5070076246575\n",
            "Total Iterations : 25\n",
            "K :  5  -  2238.3333274884567\n",
            "Total Iterations : 15\n",
            "K :  6  -  2186.4969581616097\n",
            "Total Iterations : 12\n",
            "K :  7  -  1881.4963142333731\n",
            "Total Iterations : 15\n",
            "K :  8  -  1711.7710355940799\n",
            "Total Iterations : 22\n",
            "K :  9  -  1732.2671860468984\n",
            "Total Iterations : 15\n",
            "K :  10  -  1500.5576233809415\n"
          ]
        }
      ]
    },
    {
      "cell_type": "code",
      "metadata": {
        "colab": {
          "base_uri": "https://localhost:8080/",
          "height": 279
        },
        "id": "mUIwmFQXmTIY",
        "outputId": "27ffdfdb-f5f4-4933-8e4e-3e8b844368de"
      },
      "source": [
        "#plotting the curve of Loss vs K\n",
        "plt.xlabel('K')\n",
        "plt.ylabel('Loss')\n",
        "plt.plot(np.arange(4,11),loss_arr)\n",
        "plt.show()"
      ],
      "execution_count": 68,
      "outputs": [
        {
          "output_type": "display_data",
          "data": {
            "image/png": "[encoded data removed]",
            "text/plain": [
              "<Figure size 432x288 with 1 Axes>"
            ]
          },
          "metadata": {
            "needs_background": "light"
          }
        }
      ]
    },
    {
      "cell_type": "markdown",
      "metadata": {
        "id": "jEno-01UmvIm"
      },
      "source": [
        "From the above plot we can see a elbow at **K = 5**. Hence the best value is K = 5"
      ]
    },
    {
      "cell_type": "markdown",
      "metadata": {
        "id": "mz3hmKnnnZPa"
      },
      "source": [
        "### ***Part d)***"
      ]
    },
    {
      "cell_type": "markdown",
      "metadata": {
        "id": "fnc5cIUDnz3t"
      },
      "source": [
        "Suppose $\\mathcal{S}_{j}$ is the set containing the points in the $j^{th}$ cluster.<br>\n",
        "The $j^{th}$ cluster centre is\n",
        "$$\n",
        "\\mu_j=\\frac{1}{\\left|\\mathcal{S}_{j}\\right|} \\sum_{i \\in \\mathcal{S}_{j}} \\Phi\\left(x_{i}\\right)\n",
        "$$\n",
        "for every iteration, we can calculate the cluster $j$ to which a point ${x}_{i}$ belongs by using the following,<br><br>\n",
        "$$\\underset{j}{\\arg \\min } \\Phi\\left({x}_{i}\\right)^T \\Phi\\left({x}_{i}\\right)-\\frac{2 \\sum_{k \\in \\mathcal{S}_{j}} \\Phi\\left({x}_{i}\\right)^T \\Phi\\left({x}_{k}\\right)}{\\left|\\mathcal{S}_{j}\\right|}+\\frac{\\sum_{l, k \\in \\mathcal{S}_{j}} \\Phi\\left({x}_{l}\\right)^T \\Phi\\left({x}_{k}\\right)}{\\left(\\left|\\mathcal{S}_{j}\\right|\\right)^{2}}$$<br>\n",
        "$$=\\underset{j}{\\arg \\min } K\\left({x}_{i},{x}_{i}\\right)-\\frac{2 \\sum_{k \\in \\mathcal{S}_{j}} K\\left({x}_{i},{x}_{k}\\right)}{\\left|\\mathcal{S}_{j}\\right|}+\\frac{\\sum_{l, k \\in \\mathcal{S}_{j}} K\\left({x}_{l},{x}_{k}\\right)}{\\left(\\left|\\mathcal{S}_{j}\\right|\\right)^{2}}$$<br>"
      ]
    },
    {
      "cell_type": "code",
      "metadata": {
        "id": "E5kQbDgKn7Pa"
      },
      "source": [
        "#kernelized loss\n",
        "def kernel(x,y,sigma):\n",
        "    #assuming gamma = 1\n",
        "    return np.exp(-lin.norm(x-y,axis=1)**2/(2*sigma**2))"
      ],
      "execution_count": 72,
      "outputs": []
    },
    {
      "cell_type": "code",
      "metadata": {
        "id": "VUVaXC0Sn8Xr"
      },
      "source": [
        "#plotting function for kernalized cluters\n",
        "def plot_clusters_kern(X,A,K,N):\n",
        "    fig = plt.figure(figsize = (8,8))\n",
        "    colors = np.array([\"red\",\"green\",\"blue\",\"yellow\",\"purple\",\"orange\",\"beige\",\"brown\",\"gray\",\"cyan\",\"magenta\"])[:K]\n",
        "    plt.title(\"K = \" + str(K))\n",
        "    for i in range(K):\n",
        "        x_plot = X[A==i]\n",
        "        plt.scatter(x_plot[:,0] , x_plot[:,1], color=colors[i])"
      ],
      "execution_count": 73,
      "outputs": []
    },
    {
      "cell_type": "code",
      "metadata": {
        "id": "rgV4lUqcoBB8"
      },
      "source": [
        "#training function for kernalized kmeans clustering\n",
        "def K_means_kern_training(N,X,K):\n",
        "    A = rnd.randint(0,K,N,dtype=int)  #Randomly assigning cluster to each example\n",
        "    Aold = np.zeros(N,dtype=int)\n",
        "    curr_itr = 0\n",
        "    while(np.sum(Aold!=A)>=(0.01*N)): #stopping criteria is when the cluster of no example changes\n",
        "        curr_itr+=1\n",
        "        print(curr_itr, end=\" \")\n",
        "        #calculate x-u for all the different clusters in teh new space\n",
        "        for x in range(N):\n",
        "            Aold[x] = A[x]\n",
        "            dist = np.zeros(K)\n",
        "            for k in range(K):\n",
        "                X_k = X[A==k]\n",
        "                N_k = X_k.shape[0]\n",
        "                phi_uk = 0\n",
        "                for i in range(N_k):\n",
        "                    phi_uk += np.sum(kernel(X_k[i],X_k,sigma))\n",
        "                phi_x_uk = np.sum(kernel(X[x],X_k,sigma))\n",
        "                dist[k] = 1 + (1/(N_k**2))*phi_uk - (2/N_k)*phi_x_uk  #Finding the cluster distance of a point from each cluster mean implicitly\n",
        "            A[x] = np.argmin(dist)\n",
        "    print(\"Total Iteration : \", curr_itr)\n",
        "    return A"
      ],
      "execution_count": 75,
      "outputs": []
    },
    {
      "cell_type": "code",
      "metadata": {
        "colab": {
          "base_uri": "https://localhost:8080/"
        },
        "id": "Jtjs3LPCoDOQ",
        "outputId": "ac61d2e5-56ed-47a3-f1db-6f312e7ad9f8"
      },
      "source": [
        "K = 5\n",
        "sigma = 2\n",
        "A = K_means_kern_training(N,X,K) #kernalized kmeans for working on our data"
      ],
      "execution_count": 76,
      "outputs": [
        {
          "output_type": "stream",
          "name": "stdout",
          "text": [
            "1 2 3 Total Iteration :  3\n"
          ]
        }
      ]
    },
    {
      "cell_type": "code",
      "metadata": {
        "colab": {
          "base_uri": "https://localhost:8080/",
          "height": 499
        },
        "id": "_Opb0IJYoPm6",
        "outputId": "ace05063-dc53-4983-981a-b0ed3d1e03e0"
      },
      "source": [
        "plot_clusters_kern(X,A,K,N) #plotting clusters from kernalized kmeans"
      ],
      "execution_count": 77,
      "outputs": [
        {
          "output_type": "display_data",
          "data": {
            "image/png": "[encoded data removed]",
            "text/plain": [
              "<Figure size 576x576 with 1 Axes>"
            ]
          },
          "metadata": {
            "needs_background": "light"
          }
        }
      ]
    },
    {
      "cell_type": "markdown",
      "metadata": {
        "id": "-bs2u7Aw4Xdr"
      },
      "source": [
        "### Q2. Expectation-Maximization"
      ]
    },
    {
      "cell_type": "markdown",
      "metadata": {
        "id": "mQx_EMKw4Xdr"
      },
      "source": [
        "We saw how to use EM to learn parameters for Gaussian mixture models last week. Specifically, for a GMM described by the set of parameters $\\{\\pi_k, \\mu_k, \\Sigma_k \\}_{k=1}^K$, we saw that the E-step boils down to figuring out the expected assignment of clusters based on a responsibility judgment proportional to $\\pi_k~N(\\mu_k, \\Sigma_k)$, given curent parameter estimates, followed by using GDA MLE updates assuming the current expected assignment in the M-step to update parameter values."
      ]
    },
    {
      "cell_type": "markdown",
      "metadata": {
        "id": "fEqgjB0m4Xds"
      },
      "source": [
        "(a) Can you derive the E-step and M-step for an EM algorithm that would work for a Gaussian mixture model wherein the mixture weights $\\pi_k$ are known, and the covariances are restricted to be spherical, i.e. $\\Sigma_k = \\sigma^2_k I$? [20 points]"
      ]
    },
    {
      "cell_type": "markdown",
      "metadata": {
        "id": "wAKOgCRW4Xdu"
      },
      "source": [
        "(b) Implement this algorithm and show that it works on synthetic data with 3 clusters. If you are unable to derive the EM algorithm for part (a), implement the EM algorithm I showed in the class slides for the standard GMM (5 point penalty for taking this option) [15 points]. "
      ]
    },
    {
      "cell_type": "markdown",
      "metadata": {
        "id": "x2N8ilWAYJW6"
      },
      "source": [
        "### ***Solution Part a)***:\n",
        "\n",
        "Note : $\\displaystyle \\Theta \\ =\\ \\left\\{\\mu _{k} ,\\ \\sigma _{k}^{2}\\right\\}_{k=1}^{K}$ and $\\displaystyle x_{n} \\ \\in \\ R^{D}$ \n",
        "\n",
        "Let's first calculate some basic notations:\n",
        "##### 1)\n",
        "\\begin{gather*}\n",
        "p( z_{n} \\ =\\ k|x_{n} ,\\ \\hat{\\Theta }) \\ \\varpropto \\ p( z_{n} \\ =\\ k|\\hat{\\Theta }) \\ *\\ p( x_{n} |z_{n} \\ =\\ k,\\hat{\\Theta })\\\\\n",
        "=\\ \\pi _{k} \\ *\\ N\\left( x_{n} |\\widehat{u_{k}} ,\\ \\widehat{\\sigma _{k}^{2}} I_{D}\\right) \\ \n",
        "\\end{gather*}\n",
        "Also \n",
        "##### 2)\n",
        "\\begin{gather*}\n",
        "\\hat{\\Theta } \\ =\\ argmax_{\\Theta } \\ E_{ p( Z|X ,\\ \\hat{\\Theta })}[ log\\ ( p( X,Z|\\Theta ))]\\\\\n",
        "=argmax_{\\Theta } \\ E_{p( Z|X ,\\ \\hat{\\Theta })}\\left[\\sum _{n=1}^{N} log\\ ( p( x_{n} ,z_{n} |\\Theta ))\\right]\\\\\n",
        "we\\ have\\ p( x_{n} ,z_{n} |\\Theta ) \\ =\\ \\sum _{k=1}^{K}( p( z_{n} \\ =\\ k|\\Theta ) \\ *\\ p( x_{n} |z_{n} =k,\\Theta ))^{z_{n}{}_{k}}\\\\\n",
        "where\\ z_{n}{}_{k} \\ =1\\ when\\ x_{n} \\ belongs\\ to\\ k^{th} \\ cluster,\\ else\\ z_{n}{}_{k} \\ =0\\ \\\\\n",
        "=\\ argmax_{\\Theta } \\ E\\left[\\sum _{n=1}^{N}\\sum _{k=1}^{K} z_{n}{}_{k}\\left[ log\\ \\pi _{k} \\ +\\ log\\ N\\left( x_{n} |u_{k} ,\\ \\sigma _{k}^{2} I_{D}\\right)\\right]\\right]\\\\\n",
        "using\\ Expectation\\ of\\ z_{n}{}_{k}\\\\\n",
        "=\\ argmax_{\\Theta }\\sum _{n=1}^{N}\\sum _{k=1}^{K} \\ E_{p( z_{n} |x_{n} ,\\ \\hat{\\Theta })}[ z_{n}{}_{k}]\\left[ log\\ \\pi _{k} \\ +\\ log\\ N\\left( x_{n} |u_{k} ,\\ \\sigma _{k}^{2} I_{D}\\right)\\right]\n",
        "\\end{gather*}"
      ]
    },
    {
      "cell_type": "markdown",
      "metadata": {
        "id": "XKEB5rwoYYNb"
      },
      "source": [
        "### ***Expectation Step***<br>\n",
        "Using expression 1)\n",
        "\\begin{gather*}\n",
        "E[ z_{n}{}_{k}] \\ =\\ \\gamma _{n}{}_{k}\\\\\n",
        "=\\ 0*p( z_{n}{}_{k} \\ =\\ 0\\ |\\ x_{n} ,\\hat{\\Theta }) \\ +1*p( z_{n}{}_{k} \\ =\\ 1\\ |\\ x_{n} ,\\hat{\\Theta })\\\\\n",
        "=\\ \\ \\frac{\\pi _{k} *N\\left( x_{n} |\\hat{\\mu }_{k} ,\\ \\widehat{\\sigma _{k}^{2}} I_{D}\\right)}{\\sum _{i=1}^{K} \\pi _{i} *N\\left( x_{n} |\\widehat{\\mu _{i}} ,\\ \\widehat{\\sigma _{i}^{2}} I_{D}\\right)}\n",
        "\\\\\n",
        "N_k =\\sum_{n=1}^{N}\\gamma_{nk}\n",
        "\\end{gather*}"
      ]
    },
    {
      "cell_type": "markdown",
      "metadata": {
        "id": "sz7qWee4Yhqg"
      },
      "source": [
        "### ***Maximization Step***<br>\n",
        "$\\displaystyle =\\ argmax_{\\Theta }\\sum _{n=1}^{N}\\sum _{k=1}^{K} \\ E_{p( z_{n} |x_{n} ,\\ \\hat{\\Theta })}[ z_{n}{}_{k}]\\left[ log\\ \\pi _{k} \\ +\\ log\\ N\\left( x_{n} |u_{k} ,\\ \\sigma _{k}^{2} I_{D}\\right)\\right]$\n",
        "\n",
        "\\begin{gather*}\n",
        "\\hat{\\Theta } =\\ argmax_{\\Theta }\\sum _{n=1}^{N}\\sum _{k=1}^{K} \\ E_{p( z_{n} |x_{n} ,\\ \\hat{\\Theta })}[ z_{n}{}_{k}]\\left[ log\\ \\pi _{k} \\ +\\ log\\ N\\left( x_{n} |u_{k} ,\\ \\sigma _{k}^{2} I_{D}\\right)\\right]\\\\\n",
        "=argmax_{\\Theta }\\sum _{n=1}^{N}\\sum _{k=1}^{K} \\ \\gamma _{n}{}_{k}\\left[ log\\ \\pi _{k} \\ +\\ log\\ N\\left( x_{n} |u_{k} ,\\ \\sigma _{k}^{2} I_{D}\\right)\\right]\\\\\n",
        "=\\ argmax_{\\Theta }\\sum _{n=1}^{N}\\sum _{k=1}^{K} \\ \\gamma _{n}{}_{k}\\left[ log\\ \\pi _{k} \\ +\\ log\\ \\frac{1}{\\sqrt{( 2\\pi )^{D} |\\sigma _{k}^{2} I_{D} |}} exp\\left( -\\frac{1}{2}( x_{n} -\\mu _{k})^{T}\\frac{I_{D}}{\\sigma _{k}^{2}}( x_{n} -\\mu _{k})\\right)\\right]\\\\\n",
        "=\\ argmax_{\\Theta }\\sum _{n=1}^{N}\\sum _{k=1}^{K} \\ \\gamma _{n}{}_{k}\\left[ log\\ \\pi _{k} \\ +\\ log\\ \\frac{1}{( 2\\pi )^{D/2}\\left( \\sigma _{k}^{2}\\right)^{D/2}} exp\\left( -\\frac{1}{2}( x_{n} -\\mu _{k})^{T}\\frac{I_{D}}{\\sigma _{k}^{2}}( x_{n} -\\mu _{k})\\right)\\right]\\\\\n",
        "=\\ argmax_{\\Theta }\\sum _{n=1}^{N}\\sum _{k=1}^{K} \\ \\gamma _{n}{}_{k}\\left[ log\\ \\pi _{k} \\ +\\ -\\ \\frac{D}{2} log( 2\\pi ) \\ -\\ \\frac{D}{2} log\\left( \\sigma _{k}^{2}\\right) \\ -\\ \\left(\\frac{1}{2\\sigma _{k}^{2}}( x_{n} -\\mu _{k})^{T} I_{D}( x_{n} -\\mu _{k})\\right)\\right]\\\\\n",
        "\\ \n",
        "\\end{gather*}\n"
      ]
    },
    {
      "cell_type": "markdown",
      "metadata": {
        "id": "PoVU8qbTYxFB"
      },
      "source": [
        "#### To find the MLE estimates of $\\mu_{k}$ and $\\sigma_{k}^{2}$, we take the partial derivate of the above expression with respect to $\\mu_{k}$ and $\\sigma_{k}^{2}$"
      ]
    },
    {
      "cell_type": "markdown",
      "metadata": {
        "id": "zmL78X_0Yxs8"
      },
      "source": [
        "#### Finding $\\mu_{k}$ <br>\n",
        "\n",
        "\\begin{gather*}\n",
        "\\frac{\\partial \\hat{\\Theta }}{\\partial \\mu _{k}} \\ =\\ 0\\\\\n",
        "[[All\\ the\\ terms\\ not\\ belonging\\ to\\ the\\ cluster\\ of\\ the\\ paramter\\ under\\ consideration\\ will\\ go\\ to\\ 0]]\\\\\n",
        "\\Longrightarrow \\sum _{n=1}^{N} \\ \\ \\gamma _{n}{}_{k}\\left[ \\ -\\ \\frac{\\partial }{\\partial \\mu _{k}}\\left(\\frac{1}{2\\sigma _{k}^{2}}( x_{n} -\\mu _{k})^{T} I_{D}( x_{n} -\\mu _{k})\\right)\\right] \\ =\\ 0\\\\\n",
        "\\Longrightarrow \\ \\sum _{n=1}^{N} \\ \\ \\gamma _{n}{}_{k}\\left[ \\ -\\ \\left(\\frac{( x_{n} -\\mu _{k})}{\\sigma _{k}^{2}}\\right)\\right] \\ =\\ 0\\\\\n",
        "\\Longrightarrow \\ \\sum _{n=1}^{N} \\ \\ -\\gamma _{n}{}_{k}( x_{n} -\\mu _{k}) \\ =\\ 0\\\\\n",
        "\\Longrightarrow \\ \\sum _{n=1}^{N} \\ -\\gamma _{n}{}_{k} x_{n} +\\ \\sum _{n=1}^{N} \\ \\ \\gamma _{n}{}_{k} \\mu _{k} \\ =\\ 0\\\\\n",
        "\\Longrightarrow \\ \\mu _{k}\\sum _{n=1}^{N} \\ \\ \\gamma _{n}{}_{k} \\ =\\sum _{n=1}^{N} \\gamma _{n}{}_{k} x_{n}\\\\\n",
        "\\Longrightarrow \\mu _{k} \\ =\\ \\frac{\\sum _{n=1}^{N} \\gamma _{n}{}_{k} x_{n}}{\\sum _{n=1}^{N} \\ \\ \\gamma _{n}{}_{k}}\\\\\n",
        "\\Longrightarrow \\ \\mu _{k} \\ =\\ \\frac{\\sum _{n=1}^{N} \\gamma _{n}{}_{k} x_{n}}{N_{k}}\n",
        "\\end{gather*}"
      ]
    },
    {
      "cell_type": "markdown",
      "metadata": {
        "id": "xd38jMPEY7H0"
      },
      "source": [
        "#### Finding $\\sigma_{k}^{2}$ <br>\n",
        "\n",
        "\\begin{gather*}\n",
        "\\frac{\\partial \\hat{\\Theta }}{\\partial \\sigma _{k}^{2}} \\ =\\ 0\\\\\n",
        "[[All\\ the\\ terms\\ not\\ belonging\\ to\\ the\\ cluster\\ whose\\ parameter\\ is\\ under\\ consideration\\ will\\ go\\ to\\ 0]]\\\\\n",
        "\\Longrightarrow \\sum _{n=1}^{N} \\ \\gamma _{n}{}_{k}\\frac{\\partial }{\\partial \\sigma _{k}^{2}}\\left[ -\\ \\frac{D}{2} log\\left( \\sigma _{k}^{2}\\right) \\ -\\ \\left(\\frac{1}{2\\sigma _{k}^{2}}( x_{n} -\\mu _{k})^{T} I_{D}( x_{n} -\\mu _{k})\\right)\\right] \\ =\\ 0\\\\\n",
        "\\Longrightarrow \\sum _{n=1}^{N} \\ \\gamma _{n}{}_{k}\\left[ -\\ \\frac{D}{2\\sigma _{k}^{2}} \\ -\\ \\left( -\\ \\frac{1}{2\\left( \\sigma _{k}^{2}\\right)^{2}}( x_{n} -\\mu _{k})^{T} I_{D}( x_{n} -\\mu _{k})\\right)\\right] \\ =\\ 0\\\\\n",
        "\\Longrightarrow \\ \\sum _{n=1}^{N} \\ \\gamma _{n}{}_{k}\\left[ \\ D\\sigma _{k}^{2} \\ \\ -\\ ( x_{n} -\\mu _{k})^{T} I_{D}( x_{n} -\\mu _{k})\\right] \\ =\\ 0\\\\\n",
        "\\Longrightarrow \\sum _{n=1}^{N} \\ \\gamma _{n}{}_{k} \\ D\\sigma _{k}^{2} \\ \\ =\\sum _{n=1}^{N} \\ \\gamma _{n}{}_{k} \\ ( x_{n} -\\mu _{k})^{T}( x_{n} -\\mu _{k})\\\\\n",
        "\\Longrightarrow D\\sigma _{k}^{2}\\sum _{n=1}^{N} \\ \\gamma _{n}{}_{k} \\ \\ \\ =\\sum _{n=1}^{N} \\ \\gamma _{n}{}_{k} \\ ( x_{n} -\\mu _{k})^{T}( x_{n} -\\mu _{k})\\\\\n",
        "\\Longrightarrow \\ \\sigma _{k}^{2} \\ \\ =\\frac{\\sum _{n=1}^{N} \\ \\gamma _{n}{}_{k} \\ ( x_{n} -\\mu _{k})^{T}( x_{n} -\\mu _{k})}{N_{k} D}\n",
        "\\end{gather*}"
      ]
    },
    {
      "cell_type": "markdown",
      "metadata": {
        "id": "D6hdIUOoZQ_4"
      },
      "source": [
        "### The EM Algorithm proceeds as follows :<br>\n",
        "#### ***1.Initialization***\n",
        "&emsp;&emsp;&emsp;&emsp;&emsp;&emsp;&emsp;&emsp;&emsp;&emsp;Set $\\displaystyle \\Theta \\ =\\ \\left\\{\\mu _{k} ,\\ \\sigma _{k}^{2}\\right\\}_{k=1}^{K}$ as $\\Theta^{0}$ and  $t = 0$<br>\n",
        "\n",
        "#### ***2.E-Step*** \n",
        "\n",
        "\\begin{gather*}\n",
        "E[ z_{n}{}_{k}] \\ =\\ \\gamma _{n}{}_{k} =\\ \\ \\frac{\\pi _{k} *N\\left( x_{n} |\\mu _{k}^{t-1} ,\\ \\left( \\sigma _{k}^{2}\\right)^{t-1} I_{D}\\right)}{\\sum _{i=1}^{K} \\pi _{i} *N\\left( x_{n} |\\mu _{k}^{t-1} ,\\ \\left( \\sigma _{k}^{2}\\right)^{t-1} I_{D}\\right)}\n",
        "\\\\\n",
        "N_k =\\sum_{n=1}^{N}\\gamma_{nk}\n",
        "\\end{gather*}<br>\n",
        "\n",
        "#### ***3.M-Step*** \n",
        "\n",
        "\\begin{gather*}\n",
        "\\mu _{k}^{t} \\ =\\ \\frac{\\sum _{n=1}^{N} \\gamma {_{nk}^{t}} x_{n}}{N_{k}^{t}}\\\\\n",
        "\\ \\left( \\sigma _{k}^{2}\\right)^{t} \\ \\ =\\frac{\\sum _{n=1}^{N} \\ \\gamma {_{nk}^{t}} \\ \\left( x_{n} -\\mu _{k}^{t}\\right)^{T}\\left( x_{n} -\\mu _{k}^{t}\\right)}{N_{k}^{t} D}\\\\\n",
        "\\end{gather*}<br>\n",
        "\n",
        "#### 4. Update t = t + 1 and move to the next iteration if the parameter values do not converge\n",
        "\n",
        "\n",
        "\n"
      ]
    },
    {
      "cell_type": "markdown",
      "metadata": {
        "id": "cjo3otPvaxAb"
      },
      "source": [
        "###***Part b)***"
      ]
    },
    {
      "cell_type": "code",
      "metadata": {
        "id": "ka-tzABobAKK"
      },
      "source": [
        "from scipy.stats import multivariate_normal #extra library to generate artificial data"
      ],
      "execution_count": 82,
      "outputs": []
    },
    {
      "cell_type": "code",
      "metadata": {
        "id": "pzDYIj9BbB0T"
      },
      "source": [
        "#initializing the parameters\n",
        "K = 3\n",
        "N = 100\n",
        "D = 2\n",
        "#Initializing mu, sigma^2 and pi for generation of data\n",
        "mu_syn = np.zeros((K,2))\n",
        "mu_syn[0,:] = [-10,10]\n",
        "mu_syn[1,:] = [10,1]\n",
        "mu_syn[2,:] = [-5,-10]\n",
        "\n",
        "var_syn = np.array([4,9,16])\n",
        "pi_syn = np.array([1./3,1./3,1./3])\n",
        "I = np.eye(D)"
      ],
      "execution_count": 83,
      "outputs": []
    },
    {
      "cell_type": "code",
      "metadata": {
        "id": "9883JTxGbKdF"
      },
      "source": [
        "#artificial data generator\n",
        "def data_generator(mu_syn,var_syn,pi_syn):\n",
        "    y=np.zeros(N,dtype=int)\n",
        "    x_syn = np.zeros((N,2))\n",
        "    for i in range(N):\n",
        "        k = rnd.choice(np.arange(K),p=pi_syn)\n",
        "        y[i] = k\n",
        "        x_syn[i,:] = multivariate_normal(mean = mu_syn[k], cov = var_syn[k]*I).rvs()\n",
        "    return (x_syn,y)"
      ],
      "execution_count": 84,
      "outputs": []
    },
    {
      "cell_type": "code",
      "metadata": {
        "id": "0NWP0z0sbOoc"
      },
      "source": [
        "(x_syn, y) = data_generator(mu_syn,var_syn,pi_syn)  #generating data"
      ],
      "execution_count": 85,
      "outputs": []
    },
    {
      "cell_type": "code",
      "metadata": {
        "colab": {
          "base_uri": "https://localhost:8080/",
          "height": 266
        },
        "id": "1KsZMCNdbReO",
        "outputId": "c94f4a3c-dbb0-4fb6-c6ac-d0720d1d03b1"
      },
      "source": [
        "plt.scatter(x_syn[:,0],x_syn[:,1],c=y) #plotting generated data\n",
        "plt.show()"
      ],
      "execution_count": 86,
      "outputs": [
        {
          "output_type": "display_data",
          "data": {
            "image/png": "[encoded data removed]",
            "text/plain": [
              "<Figure size 432x288 with 1 Axes>"
            ]
          },
          "metadata": {
            "needs_background": "light"
          }
        }
      ]
    },
    {
      "cell_type": "code",
      "metadata": {
        "id": "rW8HZEjxbWBn"
      },
      "source": [
        "pi_t = pi_syn\n",
        "mu_t = 10*rnd.random((K,2))\n",
        "var_t = 10*rnd.random(K)\n",
        "gam_t = np.zeros((N,K))"
      ],
      "execution_count": 87,
      "outputs": []
    },
    {
      "cell_type": "code",
      "metadata": {
        "colab": {
          "base_uri": "https://localhost:8080/"
        },
        "id": "vBWk_uiJbXJ4",
        "outputId": "2d721a14-6fb8-4d4d-8c03-bbe66b6ec328"
      },
      "source": [
        "pi_t"
      ],
      "execution_count": 9,
      "outputs": [
        {
          "output_type": "execute_result",
          "data": {
            "text/plain": [
              "array([0.33333333, 0.33333333, 0.33333333])"
            ]
          },
          "metadata": {},
          "execution_count": 9
        }
      ]
    },
    {
      "cell_type": "code",
      "metadata": {
        "colab": {
          "base_uri": "https://localhost:8080/"
        },
        "id": "b4SSxUI7bZsm",
        "outputId": "f6d7c137-7caa-41c3-f927-ca5ee95b736a"
      },
      "source": [
        "mu_t"
      ],
      "execution_count": 10,
      "outputs": [
        {
          "output_type": "execute_result",
          "data": {
            "text/plain": [
              "array([[2.64188773, 4.08593662],\n",
              "       [0.2209904 , 6.7286951 ],\n",
              "       [8.61723596, 2.37504489]])"
            ]
          },
          "metadata": {},
          "execution_count": 10
        }
      ]
    },
    {
      "cell_type": "code",
      "metadata": {
        "colab": {
          "base_uri": "https://localhost:8080/"
        },
        "id": "Cl_rPm_cbeCY",
        "outputId": "638936be-d23d-4d0d-8398-c09e640480fb"
      },
      "source": [
        "var_t"
      ],
      "execution_count": 11,
      "outputs": [
        {
          "output_type": "execute_result",
          "data": {
            "text/plain": [
              "array([2.29402311, 0.1494131 , 1.46316345])"
            ]
          },
          "metadata": {},
          "execution_count": 11
        }
      ]
    },
    {
      "cell_type": "code",
      "metadata": {
        "id": "yQCE1Ankbg_b"
      },
      "source": [
        "#function to implement EM algorithm\n",
        "def EM(itrs,pi_t,mu_t,var_t,gam_t):\n",
        "    for t in range(itrs):\n",
        "        print(str(t), end=\" | \")\n",
        "        #EXPECTATION STEP \n",
        "        for n in range(N):\n",
        "            total = 0.\n",
        "            for k in range(K):\n",
        "                gam_t[n][k] = pi_t[k] * multivariate_normal(mean = mu_t[k], cov = var_t[k]*I).pdf(x_syn[n,:])\n",
        "                total += gam_t[n][k]\n",
        "            gam_t[n,:]/=total\n",
        "\n",
        "        N_k_t = np.sum(gam_t,axis = 0)\n",
        "        #MAXIMIZATION STEP\n",
        "        #UPDATING MU\n",
        "        for k in range(K):\n",
        "            mu_t[k,:] = (1./N_k_t[k])*(np.dot(gam_t[:,k],x_syn))\n",
        "        #UPDATING SIGMA\n",
        "        for k in range(K):\n",
        "            total = 0\n",
        "            for n in range(N):\n",
        "                total += gam_t[n,k]*np.dot(x_syn[n,:]-mu_t[k,:],x_syn[n,:]-mu_t[k,:])\n",
        "            total/=(D*N_k_t[k])\n",
        "            var_t[k] = total\n",
        "    return (mu_t,var_t)"
      ],
      "execution_count": 88,
      "outputs": []
    },
    {
      "cell_type": "code",
      "metadata": {
        "id": "aVxlmq_Ebicw"
      },
      "source": [
        "#random initialization of mu, sigma^2, and gamma\n",
        "pi_t = pi_syn\n",
        "np.random.seed(0)\n",
        "mu_t = 10*np.random.random((K,2))\n",
        "var_t = 10*np.random.random(K)\n",
        "gam_t = np.zeros((N,K))\n",
        "itrs = 100"
      ],
      "execution_count": 103,
      "outputs": []
    },
    {
      "cell_type": "code",
      "metadata": {
        "colab": {
          "base_uri": "https://localhost:8080/"
        },
        "id": "yoQlEDz9bldj",
        "outputId": "40c7b2d6-e6a6-499c-db2a-542be610571d"
      },
      "source": [
        "(mu_f,var_f) = EM(itrs,pi_t,mu_t,var_t,gam_t)\n",
        "#mu_f: Stores the mu returned by EM Algorithm and var_f: Stores the sigma^2 returned by EM Algorithm"
      ],
      "execution_count": 104,
      "outputs": [
        {
          "output_type": "stream",
          "name": "stdout",
          "text": [
            "0 | 1 | 2 | 3 | 4 | 5 | 6 | 7 | 8 | 9 | 10 | 11 | 12 | 13 | 14 | 15 | 16 | 17 | 18 | 19 | 20 | 21 | 22 | 23 | 24 | 25 | 26 | 27 | 28 | 29 | 30 | 31 | 32 | 33 | 34 | 35 | 36 | 37 | 38 | 39 | 40 | 41 | 42 | 43 | 44 | 45 | 46 | 47 | 48 | 49 | 50 | 51 | 52 | 53 | 54 | 55 | 56 | 57 | 58 | 59 | 60 | 61 | 62 | 63 | 64 | 65 | 66 | 67 | 68 | 69 | 70 | 71 | 72 | 73 | 74 | 75 | 76 | 77 | 78 | 79 | 80 | 81 | 82 | 83 | 84 | 85 | 86 | 87 | 88 | 89 | 90 | 91 | 92 | 93 | 94 | 95 | 96 | 97 | 98 | 99 | "
          ]
        }
      ]
    },
    {
      "cell_type": "code",
      "metadata": {
        "id": "kaq2VUYjcIDy"
      },
      "source": [
        "(x_gen, y_gen) = data_generator(mu_f,var_f,pi_t) #x_gen,y_gen are values generated by taking mu and sigma^2 returned by EM Algorithm"
      ],
      "execution_count": 105,
      "outputs": []
    },
    {
      "cell_type": "code",
      "metadata": {
        "colab": {
          "base_uri": "https://localhost:8080/",
          "height": 265
        },
        "id": "kJnMivYNcKCw",
        "outputId": "be412811-3a91-467d-edb8-97457cf5b9d3"
      },
      "source": [
        "plt.scatter(x_gen[:,0],x_gen[:,1],c=y_gen) \n",
        "plt.show()"
      ],
      "execution_count": 106,
      "outputs": [
        {
          "output_type": "display_data",
          "data": {
            "image/png": "[encoded data removed]",
            "text/plain": [
              "<Figure size 432x288 with 1 Axes>"
            ]
          },
          "metadata": {
            "needs_background": "light"
          }
        }
      ]
    }
  ]
}