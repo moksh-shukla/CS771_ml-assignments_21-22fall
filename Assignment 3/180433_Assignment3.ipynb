{
  "nbformat": 4,
  "nbformat_minor": 0,
  "metadata": {
    "colab": {
      "name": "180433_Assignment3.ipynb",
      "provenance": []
    },
    "kernelspec": {
      "name": "python3",
      "display_name": "Python 3"
    },
    "language_info": {
      "name": "python"
    }
  },
  "cells": [
    {
      "cell_type": "code",
      "metadata": {
        "id": "-fmcnad9m8kQ"
      },
      "source": [
        "import numpy as np\n",
        "import pandas as pd\n",
        "import matplotlib.pyplot as plt"
      ],
      "execution_count": null,
      "outputs": []
    },
    {
      "cell_type": "markdown",
      "metadata": {
        "id": "14Ot5KgkBNtZ"
      },
      "source": [
        "# Q1"
      ]
    },
    {
      "cell_type": "markdown",
      "metadata": {
        "id": "LvtbiqOZ8n7S"
      },
      "source": [
        "### Part a) Perceptron Algorithm"
      ]
    },
    {
      "cell_type": "code",
      "metadata": {
        "id": "CHJVNQjlqhqI"
      },
      "source": [
        "#This code block defines the perceptron algorithm\n",
        "def perceptron(x,y,w0,totalprev):\n",
        "    n = y.size\n",
        "    w = w0\n",
        "    stack = np.array([10]*totalprev)\n",
        "    tol = 1e-8\n",
        "    t = 0\n",
        "    while(np.sum(stack)>tol):\n",
        "        stack = np.delete(stack,0)\n",
        "        num = np.random.randint(0,n) # random row number to choose for GD\n",
        "        xn = np.array(x.iloc[num])\n",
        "        yn = int(y.iloc[num])\n",
        "        if(np.dot(w,xn)*yn<0):\n",
        "            wnew = w+yn*xn\n",
        "            diff = np.sum(np.abs(wnew-w))\n",
        "            stack = np.append(stack,diff) # \"diff\" amount of change found\n",
        "            w = wnew\n",
        "        else:\n",
        "            stack = np.append(stack,0) # no change found hence append 0\n",
        "        t+=1 # iterations track\n",
        "    return w"
      ],
      "execution_count": 232,
      "outputs": []
    },
    {
      "cell_type": "markdown",
      "metadata": {
        "id": "I7FIoH4g82vN"
      },
      "source": [
        "### Part b) Perceptron with UCI Bank Note Dataset \n",
        "[Dataset](https://archive.ics.uci.edu/ml/datasets/banknote+authentication)"
      ]
    },
    {
      "cell_type": "code",
      "metadata": {
        "id": "6GJ6DPKtnGDz"
      },
      "source": [
        "#load dataset\n",
        "header = [\"Variance\", \"Skewness\", \"Curtosis\", \"Entropy\", \"Class\"]\n",
        "df = pd.read_csv('https://archive.ics.uci.edu/ml/machine-learning-databases/00267/data_banknote_authentication.txt', names=header)\n",
        "df"
      ],
      "execution_count": null,
      "outputs": []
    },
    {
      "cell_type": "code",
      "metadata": {
        "id": "4_rH_GmaUlLi"
      },
      "source": [
        "df['Class'] = df['Class'].apply(lambda x: x*2-1) #transforming the 0/1 classes to -1/1 in dataset column\n",
        "X = df[[\"Variance\", \"Skewness\", \"Curtosis\", \"Entropy\"]] #selecting the X\n",
        "y = df[\"Class\"] #selecting the y"
      ],
      "execution_count": null,
      "outputs": []
    },
    {
      "cell_type": "code",
      "metadata": {
        "id": "XkvZpA3MQXub"
      },
      "source": [
        "#this function defines splitting of dataset into train, test split based on a given condition\n",
        "def train_test_split(X, y, ratio):\n",
        "  msk = np.random.rand(n) < ratio\n",
        "  X_train = X[msk]\n",
        "  X_test = X[~msk]\n",
        "  y_train = y[msk]\n",
        "  y_test = y[~msk]\n",
        "\n",
        "  return X_train, y_train, X_test, y_test"
      ],
      "execution_count": 58,
      "outputs": []
    },
    {
      "cell_type": "markdown",
      "metadata": {
        "id": "ZjunGTdrm5ZN"
      },
      "source": [
        "### Predict Function for Perceptron Algorithm"
      ]
    },
    {
      "cell_type": "code",
      "metadata": {
        "id": "1RlvNGtO9jE3"
      },
      "source": [
        "def predict(X, w):\n",
        "    y = np.dot(X,w) >= 0 # actual_y = [+1, 0]\n",
        "    y_pred = y*2  - 1  # y_predicted transformed from 0,1 to -1,1\n",
        "    return y_pred\n",
        "\n",
        "# function to calculate accuracy\n",
        "def accuracy(y_test, y_pred):\n",
        "    total = np.sum(np.abs(y_pred != y))\n",
        "    return (1 - (total / y.shape[0])) * 100"
      ],
      "execution_count": 234,
      "outputs": []
    },
    {
      "cell_type": "markdown",
      "metadata": {
        "id": "rGvzvTz5U1Z4"
      },
      "source": [
        "##### **Data Pre-Processing**\n",
        "1. Shuffle the dataset to remove bias while training the model, if any\n",
        "2. No missing values or anomaly in the data"
      ]
    },
    {
      "cell_type": "code",
      "metadata": {
        "id": "F4JRfHG5-Lgh"
      },
      "source": [
        "n = len(X)\n",
        "nt = 1 #learning rate\n",
        "# preprocess the data\n",
        "np.random.seed(786) #setting the random seed\n",
        "df = df.sample(frac=1).reset_index(drop=True) # shuffling data\n",
        "w_init = np.random.normal(1, 0, (4, )) # initializing the weight vector"
      ],
      "execution_count": 215,
      "outputs": []
    },
    {
      "cell_type": "code",
      "metadata": {
        "id": "r-WeuCmNQrPI"
      },
      "source": [
        "X_train, y_train, X_test, y_test = train_test_split(X, y, 0.8) #80% train + 20% test split"
      ],
      "execution_count": 237,
      "outputs": []
    },
    {
      "cell_type": "markdown",
      "metadata": {
        "id": "ylFy97PPViF7"
      },
      "source": [
        "Testing the pereptron algorithm by training on train set and calculating accuracy on test set"
      ]
    },
    {
      "cell_type": "code",
      "metadata": {
        "colab": {
          "base_uri": "https://localhost:8080/"
        },
        "id": "g3LVLS5KooBS",
        "outputId": "448bbe0f-c45c-434c-853b-687d9b82602c"
      },
      "source": [
        "w_percep = perceptron(X_train, y_train, w_init,100) #perecptron algo return weights\n",
        "y_pred = predict(X, w_percep) #calculate predicted labels of class using weights from training data\n",
        "acc = accuracy(y_test, y_pred) #calculating accuracy\n",
        "print(\" Test Data Accuracy:\",acc, \"%\")"
      ],
      "execution_count": 241,
      "outputs": [
        {
          "output_type": "stream",
          "name": "stdout",
          "text": [
            " Test Data Accuracy: 95.77259475218659 %\n"
          ]
        }
      ]
    },
    {
      "cell_type": "markdown",
      "metadata": {
        "id": "ZFhSxUE8BDDo"
      },
      "source": [
        "### Part c"
      ]
    },
    {
      "cell_type": "markdown",
      "metadata": {
        "id": "AJlbFSi6nW0F"
      },
      "source": [
        "#### **Cross Validation**"
      ]
    },
    {
      "cell_type": "code",
      "metadata": {
        "id": "EQ4Z1cCPnvTp"
      },
      "source": [
        "def Kfold_crossVal(X, y, w0, n_folds):\n",
        "    np.random.seed(786)\n",
        "    cross_accumulate = []\n",
        "    num_lst = np.arange(y.size)   # used for splitting into training and test in cv\n",
        "    np.random.shuffle(num_lst) # for randomness\n",
        "    split = np.array_split(num_lst, n_folds) # K folds split\n",
        "\n",
        "    for i in split:\n",
        "        curr_split = np.zeros(y.size)\n",
        "        curr_split[i] = 1 # choose this fold for testing and other folds for training in this iteration\n",
        "        msk = np.array(curr_split, dtype = 'bool') # represents test set\n",
        "        xtest = X[msk] #selecting test set\n",
        "        xtrain = X[~msk] #conjugate of test set\n",
        "        ytest = y[msk]\n",
        "        ytrain = y[~msk]\n",
        "        wCV = perceptron(xtrain, ytrain, w_init, 100) #cross val weights from perceptron algo\n",
        "        y_pred = predict(xtest, wCV) #cross val predictions\n",
        "        curr_accuracy = 1 - np.sum(np.abs(y_pred != ytest)) / len(ytest)\n",
        "        cross_accumulate.append(curr_accuracy)\n",
        "        \n",
        "    cross_accumulate = np.array(cross_accumulate)\n",
        "    return np.mean(cross_accumulate)"
      ],
      "execution_count": 307,
      "outputs": []
    },
    {
      "cell_type": "markdown",
      "metadata": {
        "id": "qaaB9INycYwO"
      },
      "source": [
        "#### **Cross Validation Test Error**"
      ]
    },
    {
      "cell_type": "code",
      "metadata": {
        "colab": {
          "base_uri": "https://localhost:8080/"
        },
        "id": "GJq-heysoQpz",
        "outputId": "e419c861-a7f8-4617-8459-cd03211a6c0a"
      },
      "source": [
        "folds = 10 # no of folds in kfold cross validation\n",
        "score =  Kfold_crossVal(X, y, w_init, folds) * 100\n",
        "error = 100-score\n",
        "print(\"Cross Validation Test Error %: \", error) # using training set for CV "
      ],
      "execution_count": 306,
      "outputs": [
        {
          "output_type": "stream",
          "name": "stdout",
          "text": [
            "Cross Validation Test Error %:  5.249656193800902\n"
          ]
        }
      ]
    },
    {
      "cell_type": "markdown",
      "metadata": {
        "id": "BCBc1xzLwYPc"
      },
      "source": [
        "### Part d) **Calculating F1 Score**"
      ]
    },
    {
      "cell_type": "code",
      "metadata": {
        "id": "p0KjF3_5woPY"
      },
      "source": [
        "np.random.seed(786)\n",
        "train, valid, test =  np.split(df.sample(frac=1, random_state=42), [int(.7*len(df)), int(.9*len(df))]) #create new splits for train, test, val as we need f1 using a held out validation set\n",
        "# 70/10/20 split\n",
        "xtrain = train.iloc[:, :-1]\n",
        "ytrain = train.iloc[:, -1]\n",
        "\n",
        "xtest = test.iloc[:, :-1]\n",
        "ytest = test.iloc[:, -1]\n",
        "\n",
        "xval = valid.iloc[:, :-1]\n",
        "yval = valid.iloc[:, -1]"
      ],
      "execution_count": 270,
      "outputs": []
    },
    {
      "cell_type": "markdown",
      "metadata": {
        "id": "tW_ZYSChXkg0"
      },
      "source": [
        "Class Labels: -1/+1\n",
        "*   **F1** Score for held out data set, where held out data set is validation set \n",
        "*   Use weights we get from training data\n"
      ]
    },
    {
      "cell_type": "code",
      "metadata": {
        "colab": {
          "base_uri": "https://localhost:8080/"
        },
        "id": "LT3W-Mrsnvl2",
        "outputId": "d7a3d14d-3f1a-4c5a-cbdb-c0b097360c49"
      },
      "source": [
        "w_training = perceptron(xtrain, ytrain, w_init, 100) #training weights from perceptron algo\n",
        "ypred_out = predict(xval, w_training) #predictions on held out set\n",
        "tp = np.sum(np.logical_and(ypred_out == 1 , np.array(yval) == 1)) # True positive\n",
        "fp = np.sum(np.logical_and(ypred_out == 1 , np.array(yval) == -1)) # False positive\n",
        "tn = np.sum(np.logical_and(ypred_out == -1 , np.array(yval) == -1)) # True Negative\n",
        "fn = np.sum(np.logical_and(ypred_out == -1 , np.array(yval) == 1)) # False Negative\n",
        "\n",
        "prec = tp / (tp + fp) #precision\n",
        "rec = tp / (tp + fn) #recall\n",
        "F1 = (2 * (prec * rec) )/ (prec + rec)\n",
        "print(\"F1 Score on Held Out Validation Set : \", F1)"
      ],
      "execution_count": 308,
      "outputs": [
        {
          "output_type": "stream",
          "name": "stdout",
          "text": [
            "F1 Score on Held Out Validation Set :  0.956896551724138\n"
          ]
        }
      ]
    },
    {
      "cell_type": "markdown",
      "metadata": {
        "id": "N8UaAUmK0a-N"
      },
      "source": [
        "# Q2"
      ]
    },
    {
      "cell_type": "markdown",
      "metadata": {
        "id": "V189qM4N0knh"
      },
      "source": [
        "### Part a)\n",
        "The Probability Density Function for Gaussian can be defined as:<br><br>\n",
        "$\\mathcal{N(\\mu, \\sigma^{2})} =\\frac{1}{\\sqrt{2\\pi } \\sigma }\\exp\\left( -\\frac{( x\\ -\\ \\mu )^{2}}{2\\sigma ^{2}}\\right)$"
      ]
    },
    {
      "cell_type": "code",
      "metadata": {
        "id": "t_nZJONo0cxI"
      },
      "source": [
        "#function defining gaussian pdf\n",
        "def gaussian_pdf(x, mu, sig):\n",
        "    return 1 / (np.sqrt(2 * np.pi) * sig) * np.exp(-np.power(x - mu, 2.) / (2 * np.power(sig, 2.)))"
      ],
      "execution_count": 292,
      "outputs": []
    },
    {
      "cell_type": "code",
      "metadata": {
        "id": "6ma8TaMZ2IkP"
      },
      "source": [
        "mu_data = 10 #mean for data\n",
        "mu_prior = 25 #mean of prior\n",
        "sd_data = 5 #std dev of data\n",
        "sd_prior = 5 #std dev of prior\n",
        "N = 50 #no. of points\n",
        "X_data = np.random.normal(mu_data, sd_data, N) # Derived synthetic data based on given conditions"
      ],
      "execution_count": 275,
      "outputs": []
    },
    {
      "cell_type": "markdown",
      "metadata": {
        "id": "cCdb5iVJ1jj5"
      },
      "source": [
        "Let the likelihood be given as => $p( x_{n} \\ |\\ \\mu ) \\ =\\mathcal{N}( \\mu ,\\ \\sigma^{2} ) \\ \\forall x_n \\ \\text{as given in } \\text{data}$\n",
        "<br>\n",
        "Where $\\mu$ is unknown but $\\sigma$ is not\n",
        "<br>\n",
        "And prior be \n",
        "<br>\n",
        "$p( \\mu ) \\ =\\ \\mathcal{N}( \\mu _{o} ,\\ \\sigma^{2} _{o})$\n",
        "<br>\n",
        "Then the posterior accoording to Bayes theorem will be: \n",
        "<br>\n",
        "$\n",
        "\\begin{align*}\n",
        " p( \\mu |\\mathbf{X}) \\ & \\varpropto p(\\mathbf{X} |\\mu ) .p( \\mu )\\\\\n",
        "& \\varpropto \\prod_{n=1}^{N} \\exp\\left[ -\\frac{( x_{n} \\ -\\ \\mu )^{2}}{2\\sigma ^{2}}\\right] \\times \\exp\\left[ -\\frac{( \\mu -\\mu _{o})^{2}}{2\\sigma _{o}^{2}}\\right]\\\\\n",
        "&\\varpropto \\exp\\left[ -\\frac{( \\mu -\\mu _{N})^{2}}{2\\sigma _{N}^{2}}\\right]\n",
        "\\end{align*}\n",
        "$\n",
        "<br>\n",
        "Where\n",
        "<br>\n",
        "$\n",
        "\\begin{align*}\n",
        "\\mu _{N} \\ &=\\frac{\\sigma ^{2}\\mu _{o} + N\\sigma _{o}^{2}\\overline{x} }{N\\sigma _{o}^{2} +\\sigma ^{2}} \\\\\n",
        "\\sigma _{N}^{2} &=\\frac{\\sigma _{o}^{2}  . \\sigma ^{2}}{N\\sigma _{o}^{2} +\\sigma ^{2}}\n",
        "\\end{align*}\n",
        "$\n",
        "<br>\n",
        "$p( \\mu |\\mathbf{X}) \\ =\\ \\mathcal{N}( \\mu _{N} ,\\ \\sigma^{2} _{N})$\n",
        "<br>\n",
        "Posterior is also a gaussian with mean $\\mu_N$ and variance $\\sigma_N^{2}$"
      ]
    },
    {
      "cell_type": "markdown",
      "metadata": {
        "id": "-YC-53UV7BST"
      },
      "source": [
        "#### Calculating posterior $\\mu$ and $\\sigma$ using analytic expression derived above"
      ]
    },
    {
      "cell_type": "code",
      "metadata": {
        "colab": {
          "base_uri": "https://localhost:8080/"
        },
        "id": "XKuFyYih1Iro",
        "outputId": "0c50e8cf-bf70-4001-c2d1-67a261462f60"
      },
      "source": [
        "mu_post = ((sd_data**2) / (N * (sd_prior**2) + sd_data**2)) * (mu_prior) + (N * sd_prior**2) / (N*sd_prior**2 + sd_data**2) * np.mean(X_data)\n",
        "sd_post = np.sqrt((sd_data**2 * sd_prior**2) / (sd_data**2 + N * sd_prior**2))\n",
        "print(\"Mean\",mu_post)\n",
        "print(\"Sigma_sq\",sd_post**2) # mean and variance of posterior analytical"
      ],
      "execution_count": 294,
      "outputs": [
        {
          "output_type": "stream",
          "name": "stdout",
          "text": [
            "Mean 9.069248150373866\n",
            "Sigma_sq 0.4901960784313726\n"
          ]
        }
      ]
    },
    {
      "cell_type": "markdown",
      "metadata": {
        "id": "VNFgEqE97Abp"
      },
      "source": [
        "#### Plots of Prior, Likelihood and Posterior "
      ]
    },
    {
      "cell_type": "code",
      "metadata": {
        "colab": {
          "base_uri": "https://localhost:8080/",
          "height": 265
        },
        "id": "FBAnujxb4gUT",
        "outputId": "3b10f24e-d11d-4cd5-9f29-3be7b77b9d49"
      },
      "source": [
        "ax = np.linspace(-50, 50, 120) # points for density plots\n",
        "y_likelihood = gaussian_pdf(ax, mu_data, sd_data) # likelihood: gaussian with given mean and variance\n",
        "y_prior = gaussian_pdf(ax, mu_prior, sd_prior) # prior: gaussian with given mean and variance\n",
        "y_post = gaussian_pdf(ax, mu_post, sd_post) # posterior: gaussian with derived mean and variance\n",
        "plt.plot(ax, y_likelihood)\n",
        "plt.plot(ax, y_prior)\n",
        "plt.plot(ax, y_post)\n",
        "plt.legend([\"likelihood\", \"prior\", \"posterior\"], loc =\"upper left\")\n",
        "plt.show()"
      ],
      "execution_count": 293,
      "outputs": [
        {
          "output_type": "display_data",
          "data": {
            "image/png": "[encoded data removed]",
            "text/plain": [
              "<Figure size 432x288 with 1 Axes>"
            ]
          },
          "metadata": {
            "needs_background": "light"
          }
        }
      ]
    },
    {
      "cell_type": "markdown",
      "metadata": {
        "id": "BwYIN8Sq4_tB"
      },
      "source": [
        "We have $\\mu_{posterior} = 10$ and $\\sigma_{posterior} = 0.7$ <br>\n",
        "We can see that the posterior mean **(MAP)** is near to the likelihood mean, but it is also impacted by the prior and is a weighted sum of the prior and likelihood. "
      ]
    },
    {
      "cell_type": "markdown",
      "metadata": {
        "id": "ljXJz3Gy7HtR"
      },
      "source": [
        "## Part b"
      ]
    },
    {
      "cell_type": "markdown",
      "metadata": {
        "id": "5tan7hd05CaU"
      },
      "source": [
        "#### $f(z)$ is used in MH algorithm , and should be proportional to posterior upto a constant\n",
        "Therefore, we have\n",
        "$\n",
        "\\begin{align*}\n",
        "f( \\mu ) \\ \\varpropto \\ p( \\mu |\\mathbf{X}) \\ =\\ \\prod _{n=1}^{N}\\exp\\left[ -\\frac{( x_{n} \\ -\\ \\mu )^{2}}{2\\sigma ^{2}}\\right] \\times \\exp\\left[ -\\frac{( \\mu -\\mu _{o})^{2}}{2\\sigma _{o}^{2}}\\right]\n",
        "\\end{align*}\n",
        "$"
      ]
    },
    {
      "cell_type": "code",
      "metadata": {
        "id": "5wGsKnZq4pvP"
      },
      "source": [
        "def f(z):\n",
        "    rest = np.exp(-(z - mu_prior)**2 / (2 * sd_prior**2))\n",
        "    for i in range(N):\n",
        "        rest *= (np.exp(-(X_data[i] - z)**2 / (2 * sd_data**2)))\n",
        "    return rest"
      ],
      "execution_count": 309,
      "outputs": []
    },
    {
      "cell_type": "markdown",
      "metadata": {
        "id": "sqYAC4Rd5Hft"
      },
      "source": [
        "### Metropolis Hastings Algorithm\n",
        "1. It accepts as parameters the number of samples $n$ and the width of the proposed distribution.\n",
        "\n",
        "2. The proposed distribution is Normal (previous sample, width^2).\n",
        "\n",
        "3. It determines the probability of success from $f(z)$, which is the posterior probability.\n",
        "\n",
        "4. From the posterior distribution, it returns $n$ samples. "
      ]
    },
    {
      "cell_type": "code",
      "metadata": {
        "id": "kdYCX06c5IHG"
      },
      "source": [
        "def MH_Sampling(L, width):\n",
        "    np.random.seed(786)\n",
        "    x_prev = 0 # previous sample\n",
        "    samples = [] # list of all samples\n",
        "    samples.append(x_prev)\n",
        "    tol = 1e-1\n",
        "    for l in range(L): # sample total L smaples\n",
        "        x_proposed = np.random.normal(x_prev, width) # proposed sample from proposal distribution with sd = width\n",
        "        u = np.random.uniform(0, 1, 1) # uniform Random Variable\n",
        "        prob = min(1, f(x_proposed) / f(x_prev))\n",
        "        if prob > u:\n",
        "            samples.append(x_proposed) # denotes success\n",
        "            x_prev = x_proposed\n",
        "        else:\n",
        "            samples.append(x_prev) # denotes failure: keep the previous val\n",
        "        # early stopping due to reaching convergence\n",
        "        \n",
        "        if abs(np.mean(samples) - mu_post) < tol and abs(np.sqrt(np.var(samples)) - sd_post) < tol: # convergence condition: compare from analytical values and see if both mean and sd of samples is closer to actual value\n",
        "            break\n",
        "    return samples"
      ],
      "execution_count": 281,
      "outputs": []
    },
    {
      "cell_type": "code",
      "metadata": {
        "id": "DbssQISe5J4L"
      },
      "source": [
        "## 10000 samples for Metropolis Algo Posterior and the Analytic posterior\n",
        "sample_post = MH_Sampling(10000, 5)\n",
        "analytic_post = np.random.normal(mu_post, sd_post, len(sample_post))"
      ],
      "execution_count": 296,
      "outputs": []
    },
    {
      "cell_type": "markdown",
      "metadata": {
        "id": "sMXZhE_g5PBq"
      },
      "source": [
        "#### Histogram for Analytical posterior v/s Metropolis Hastings Sample posterior"
      ]
    },
    {
      "cell_type": "code",
      "metadata": {
        "colab": {
          "base_uri": "https://localhost:8080/",
          "height": 265
        },
        "id": "69VnGPWU5RBs",
        "outputId": "9b02a479-5cac-40de-b0c6-154e72461f7c"
      },
      "source": [
        "bins = np.linspace(5, 18, 150)\n",
        "plt.hist(sample_post, bins, alpha=0.7, label='MH Sampled Posterior')\n",
        "plt.hist(analytic_post, bins, alpha=0.7, label='True Posterior')\n",
        "plt.legend(loc='upper right')\n",
        "plt.show()"
      ],
      "execution_count": 297,
      "outputs": [
        {
          "output_type": "display_data",
          "data": {
            "image/png": "[encoded data removed]",
            "text/plain": [
              "<Figure size 432x288 with 1 Axes>"
            ]
          },
          "metadata": {
            "needs_background": "light"
          }
        }
      ]
    },
    {
      "cell_type": "markdown",
      "metadata": {
        "id": "z6foOJ7R5Wr7"
      },
      "source": [
        "### Part c) **Compare time taken to converge with respect to proposal width**"
      ]
    },
    {
      "cell_type": "code",
      "metadata": {
        "colab": {
          "base_uri": "https://localhost:8080/"
        },
        "id": "8Gjxd4so5TMg",
        "outputId": "5a57d9a9-69b7-4fbf-cb10-03f54c934067"
      },
      "source": [
        "### Small width to see time taken to converge to actual value \n",
        "%timeit MH_Sampling(5000, 0.01) \n",
        "%timeit MH_Sampling(5000, 5)"
      ],
      "execution_count": 284,
      "outputs": [
        {
          "output_type": "stream",
          "name": "stdout",
          "text": [
            "1 loop, best of 5: 2.74 s per loop\n",
            "1 loop, best of 5: 940 ms per loop\n"
          ]
        }
      ]
    },
    {
      "cell_type": "markdown",
      "metadata": {
        "id": "roPf48FN5c4M"
      },
      "source": [
        "As we can see clearly from above cell, the time taken to converge for narrow width proposal is greater as compared to the one with larger proposal width.\n",
        "<br>\n",
        "The following reasons can be attributed for it:\n",
        "\n",
        "A. Because the width is narrow, the MH samples are highly linked.<br>\n",
        "B. Because the MH samples are closer together, they are unable to cover much of the true posterior region.<br>\n",
        "C. It takes too long for them to get all available MH samples in sufficient quantities to converge. "
      ]
    },
    {
      "cell_type": "markdown",
      "metadata": {
        "id": "32XtEvQj5f_6"
      },
      "source": [
        "### **Finding optimal Proposal Width**\n",
        "1. If the proposal width is too broad, we will propose MH samples that are far from the mean, which will result in the rejection of the majority of them and sluggish convergence.\n",
        "2. If the breadth is too narrow, the MH samples will become heavily linked and impossible to reach spots that are likely in the future.\n",
        "3. We should discover the ideal width for MH samples that are reasonably uncorrelated and require a short period of time. "
      ]
    },
    {
      "cell_type": "code",
      "metadata": {
        "id": "0dbuoYBi5ZS2"
      },
      "source": [
        "width = np.linspace(1, 10, 10) # 10 widths from 1 to 5\n",
        "res = {}\n",
        "for w in width:\n",
        "    samples = MH_Sampling(5000, w)\n",
        "    res[w] = (abs(np.mean(samples) - mu_post) + abs(np.sqrt(np.var(samples)) - sd_post))"
      ],
      "execution_count": 298,
      "outputs": []
    },
    {
      "cell_type": "code",
      "metadata": {
        "colab": {
          "base_uri": "https://localhost:8080/"
        },
        "id": "AqMo0BZnQQTr",
        "outputId": "8c3e1905-4fb0-4fb8-96e1-04911623fd30"
      },
      "source": [
        "res #width is key and error is value in dictionary"
      ],
      "execution_count": 299,
      "outputs": [
        {
          "output_type": "execute_result",
          "data": {
            "text/plain": [
              "{1.0: 0.10886502096858686,\n",
              " 2.0: 0.1047186536858482,\n",
              " 3.0: 0.10022929498444899,\n",
              " 4.0: 0.1567124129538351,\n",
              " 5.0: 0.127138973428077,\n",
              " 6.0: 0.14626330747919136,\n",
              " 7.0: 0.12567377317644135,\n",
              " 8.0: 0.10087507314110167,\n",
              " 9.0: 0.19217707509855764,\n",
              " 10.0: 0.1816725600647977}"
            ]
          },
          "metadata": {},
          "execution_count": 299
        }
      ]
    },
    {
      "cell_type": "markdown",
      "metadata": {
        "id": "wTHYFBbZ5joI"
      },
      "source": [
        "As measure of error, we have utilised *deviation* from real posterior $\\mu$ combined with deviation from actual posterior $\\sigma$.<br>\n",
        "As the MH samples are uncorrelated and closer to real values, their $\\mu$ will be near to the actual values, and their $\\sigma$ will be close as well, resulting in a very minimum variation. "
      ]
    },
    {
      "cell_type": "markdown",
      "metadata": {
        "id": "tvr6XqJO5nQx"
      },
      "source": [
        "### **Optimal Proposal Width**"
      ]
    },
    {
      "cell_type": "markdown",
      "metadata": {
        "id": "HiNeBFOiSII3"
      },
      "source": [
        "Optimal Width = Width which gives min error which in turn means that samples are closest to posterior"
      ]
    },
    {
      "cell_type": "code",
      "metadata": {
        "colab": {
          "base_uri": "https://localhost:8080/",
          "height": 295
        },
        "id": "HKJR_w2m5lRB",
        "outputId": "2458bc6a-4e0c-40a4-b144-2c3681fb621f"
      },
      "source": [
        "plt.plot(list(res.keys()), list(res.values()))\n",
        "plt.xlabel('Width')\n",
        "plt.ylabel('Error')\n",
        "plt.title('Error v/s proposal width')\n",
        "plt.show()"
      ],
      "execution_count": 301,
      "outputs": [
        {
          "output_type": "display_data",
          "data": {
            "image/png": "[encoded data removed]",
            "text/plain": [
              "<Figure size 432x288 with 1 Axes>"
            ]
          },
          "metadata": {
            "needs_background": "light"
          }
        }
      ]
    },
    {
      "cell_type": "markdown",
      "metadata": {
        "id": "Q95lsose5szl"
      },
      "source": [
        "As we can see from the curve proposal width of 3 gave the minimum error. Hence it is the optimal proposal width.<br>\n",
        "*Optimal Width = 3*"
      ]
    },
    {
      "cell_type": "markdown",
      "metadata": {
        "id": "kHjNgalr5p6o"
      },
      "source": [
        "### **Consequences of using sub-optimal proposal width and terminating sampling soon**"
      ]
    },
    {
      "cell_type": "markdown",
      "metadata": {
        "id": "9Gc9oRy_535H"
      },
      "source": [
        "We anticipate that the MH samples will be strongly linked and so will not be valid posterior samples. "
      ]
    },
    {
      "cell_type": "code",
      "metadata": {
        "colab": {
          "base_uri": "https://localhost:8080/",
          "height": 265
        },
        "id": "UDRzpZww550M",
        "outputId": "bd4b45a2-32c9-489e-8ce3-0017b710c0d3"
      },
      "source": [
        "corr_samp = MH_Sampling(5000, 0.01)\n",
        "analytic_post = np.random.normal(mu_post, sd_post, len(corr_samp))\n",
        "bins = np.linspace(0, 18, 150)\n",
        "\n",
        "plt.hist(corr_samp, bins, alpha=0.7, label='Correlated MH Samples')\n",
        "plt.hist(analytic_post, bins, alpha=0.7, label='True Posterior')\n",
        "plt.legend(loc='upper right')\n",
        "plt.show()"
      ],
      "execution_count": 302,
      "outputs": [
        {
          "output_type": "display_data",
          "data": {
            "image/png": "[encoded data removed]",
            "text/plain": [
              "<Figure size 432x288 with 1 Axes>"
            ]
          },
          "metadata": {
            "needs_background": "light"
          }
        }
      ]
    },
    {
      "cell_type": "markdown",
      "metadata": {
        "id": "PNPWh7fH5-kz"
      },
      "source": [
        "As can be seen, MH samples are closer to the beginning value due to their narrow width and were unable to attain convergence due to early stopping. "
      ]
    }
  ]
}